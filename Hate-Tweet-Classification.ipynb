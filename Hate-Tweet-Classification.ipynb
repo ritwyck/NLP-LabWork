{
  "cells": [
    {
      "cell_type": "markdown",
      "metadata": {
        "collapsed": false,
        "id": "bxz9jMN4JqQi",
        "pycharm": {
          "name": "#%% md\n"
        }
      },
      "source": [
        "# NLP 2024\n",
        "# Lab 1: Classification models: Detecting hate speech\n",
        "\n",
        "The rise of social media has allowed the expression of opinions\n",
        "about debatable topics. X (ex Twitter) has emerged as a strong channel of communication to gather and disseminate news, to forecast outcome of elections and to exchange political events and discussions. It has also become an  important analytical tool for crime forecasting, tracking terrorist activities and detecting hate speech.\n",
        "\n",
        "Hate speech is commonly defined as \"any message that mocks\n",
        "or discriminates against a person or group based on specific\n",
        "characteristics such as color, ethnicity, gender, sexual orientation, nationality, religion, or other characteristics\". The\n",
        "amount of hate speech is steadily increasing due to X's\n",
        "popularity and the resulting big data from user-generated content.\n",
        "\n",
        "While NLP presents a promising approach to measure, detect and fight hate speech, that sounds more easy than it is. First of all, think about all the challenges that come with language evolution and language use in practice (e.g. sarcasm, slang, cultural variations) in understanding the true intent behind text. Moreover, there is an active discussion on what exactly consitutes hate speech from a legal perspective. Read more on this [here](https://aclanthology.org/2022.nllp-1.5.pdf).\n",
        "\n",
        "In this lab, we will explore the linguistic, technical and ethical spects of treating hate speech identification as a NLP classification task.\n",
        "\n",
        "By the end of this lab you should be able to:\n",
        "- Implement and/or use built-in functions to preprocess your data\n",
        "- Implement simple classification pipelines\n",
        "- Import and use `huggingface datasets` library\n",
        "- Import and use functions from `sklearn`\n",
        "- Evaluate classification results\n",
        "- Assess the difficulty of specific NLP tasks and propose solutions\n",
        "- Reflect on the ethical dimensions that a NLP model can have\n",
        "\n",
        "### Score breakdown\n",
        "\n",
        "Exercise | Points\n",
        "--- | ---\n",
        "[Exercise 1](#e1) | 7\n",
        "[Exercise 2](#e2) | 2\n",
        "[Exercise 3](#e3) | 2\n",
        "[Exercise 4](#e4) | 2\n",
        "[Exercise 5](#e5) | 5\n",
        "[Exercise 6](#e6) | 4\n",
        "[Exercise 7](#e7) | 5\n",
        "[Exercise 8](#e8) | 5\n",
        "[Exercise 9](#e9) | 5\n",
        "[Exercise 10](#e10) | 10\n",
        "[Exercise 11](#e11) | 3\n",
        "[Exercise 12](#e12) | 10\n",
        "[Exercise 13](#e13) | 5\n",
        "[Exercise 14](#e14) | 10\n",
        "[Exercise 15](#e15) | 10\n",
        "[Exercise 16](#e16) | 10\n",
        "[Exercise 17](#e17) | 5\n",
        "Total | 100\n",
        "\n",
        "This score will be scaled down to 1 and that will be your final lab score.\n",
        "\n",
        "### Instructions for delivery (Deadline: 6/May late night, wildcards possible)\n",
        "\n",
        "+ Make sure that you include a proper amount/mix of comments, results and code.\n",
        "+ In the end, make sure that all cells are executed properly and everything you need to show is in your (execucted) notebook.\n",
        "+ You are asked to deliver only your executed notebook file, .ipnyb and nothing else. Enjoy!\n",
        "+ Honor code applies to these tasks. Only individual work should be submitted.\n",
        "+ While you may talk with others about this lab, we ask that you write your solutions individually. If you do discuss specific tasks with others please include their names below.\n",
        "+ It is mandatory to list and disclose any website (or other resource) you used (e.g. stackoverflow) as well as any genAI tools (e.g. chatGPT) used."
      ]
    },
    {
      "cell_type": "markdown",
      "metadata": {
        "id": "USvThR914dyx"
      },
      "source": [
        "Collaborators: list collaborators here\n",
        "\n",
        "**I talked with Jerry about...**"
      ]
    },
    {
      "cell_type": "markdown",
      "metadata": {
        "id": "2EuzalFF4dgg"
      },
      "source": [
        "Use of genAI tools (e.g. chatGPT), websites (e.g. stackoverflow): list websites where you found code (or other info) as well as include information on how you used genAI tools (e.g. prompts):\n",
        "\n",
        "I asked chatGPT about..."
      ]
    },
    {
      "cell_type": "markdown",
      "metadata": {
        "collapsed": false,
        "id": "0cN4xHB1JqQj",
        "pycharm": {
          "name": "#%% md\n"
        }
      },
      "source": [
        "## Outline\n",
        "- [0 Setup](#0)\n",
        "- [1: Load Dataset](#1)\n",
        "- [2: Preprocess Dataset](#2)\n",
        "  - [Exercise 1](#e1)\n",
        "- [3: Build Vocabulary](#3)\n",
        "  - [Exercise 2](#e2)\n",
        "  - [Exercise 3](#e3)\n",
        "  - [Exercise 4](#e4)\n",
        "  - [Exercise 5](#e5)\n",
        "  - [Exercise 6](#e6)\n",
        "- [4: Build Handcrafted Classifier](43)\n",
        "  - [Exercise 7](#e7)\n",
        "  - [Exercise 8](#e8)\n",
        "- [5: Build Bag-of-Words](#5)\n",
        "  - [Exercise 9](#e9)\n",
        "- [6: Bag-of-Words with Naive Bayes](#6)\n",
        "  - [Exercise 10](#e10)\n",
        "- [7: Bag-of-Words with Logistic Regression](#7)\n",
        "  - [Exercise 11](#e11)\n",
        "  - [Exercise 12](#e12)\n",
        "- [8: TF-IDF](#8)\n",
        "  - [Exercise 13](#e13)\n",
        "  - [Exercise 14](#e14)\n",
        "- [9: Adding Handcrafted Features](#9)\n",
        "  - [Exercise 15](#e15)\n",
        "  - [Exercise 16](#e16)\n",
        "- [10: Reflection, Bias, Fairness, Ethics](#10)\n",
        "  - [Exercise 17](#e17)\n"
      ]
    },
    {
      "cell_type": "markdown",
      "metadata": {
        "collapsed": false,
        "id": "GUl1lKN2JqQj",
        "pycharm": {
          "name": "#%% md\n"
        }
      },
      "source": [
        "<a name='0'></a>\n",
        "## 0. Setup"
      ]
    },
    {
      "cell_type": "markdown",
      "metadata": {
        "collapsed": false,
        "id": "lbkqBA_9JqQj",
        "pycharm": {
          "name": "#%% md\n"
        }
      },
      "source": [
        "We will be using huggingface datasets library ([https://huggingface.co/datasets](https://huggingface.co/datasets)). You can find the detailed documentation and tutorials here: [https://huggingface.co/docs/datasets/en/index](https://huggingface.co/docs/datasets/en/index)\n",
        "\n",
        "If you don't have it installed you can run the code below:"
      ]
    },
    {
      "cell_type": "code",
      "execution_count": 1,
      "metadata": {
        "id": "-LrHJyhBJqQj",
        "pycharm": {
          "name": "#%%\n"
        }
      },
      "outputs": [
        {
          "name": "stdout",
          "output_type": "stream",
          "text": [
            "Requirement already satisfied: datasets~=2.18.0 in /Users/wiksrivastava/anaconda3/lib/python3.11/site-packages (2.18.0)\n",
            "Requirement already satisfied: filelock in /Users/wiksrivastava/anaconda3/lib/python3.11/site-packages (from datasets~=2.18.0) (3.9.0)\n",
            "Requirement already satisfied: numpy>=1.17 in /Users/wiksrivastava/anaconda3/lib/python3.11/site-packages (from datasets~=2.18.0) (1.24.4)\n",
            "Requirement already satisfied: pyarrow>=12.0.0 in /Users/wiksrivastava/anaconda3/lib/python3.11/site-packages (from datasets~=2.18.0) (16.0.0)\n",
            "Requirement already satisfied: pyarrow-hotfix in /Users/wiksrivastava/anaconda3/lib/python3.11/site-packages (from datasets~=2.18.0) (0.6)\n",
            "Requirement already satisfied: dill<0.3.9,>=0.3.0 in /Users/wiksrivastava/anaconda3/lib/python3.11/site-packages (from datasets~=2.18.0) (0.3.6)\n",
            "Requirement already satisfied: pandas in /Users/wiksrivastava/anaconda3/lib/python3.11/site-packages (from datasets~=2.18.0) (2.0.3)\n",
            "Requirement already satisfied: requests>=2.19.0 in /Users/wiksrivastava/anaconda3/lib/python3.11/site-packages (from datasets~=2.18.0) (2.31.0)\n",
            "Requirement already satisfied: tqdm>=4.62.1 in /Users/wiksrivastava/anaconda3/lib/python3.11/site-packages (from datasets~=2.18.0) (4.65.0)\n",
            "Requirement already satisfied: xxhash in /Users/wiksrivastava/anaconda3/lib/python3.11/site-packages (from datasets~=2.18.0) (2.0.2)\n",
            "Requirement already satisfied: multiprocess in /Users/wiksrivastava/anaconda3/lib/python3.11/site-packages (from datasets~=2.18.0) (0.70.14)\n",
            "Requirement already satisfied: fsspec<=2024.2.0,>=2023.1.0 in /Users/wiksrivastava/anaconda3/lib/python3.11/site-packages (from fsspec[http]<=2024.2.0,>=2023.1.0->datasets~=2.18.0) (2024.2.0)\n",
            "Requirement already satisfied: aiohttp in /Users/wiksrivastava/anaconda3/lib/python3.11/site-packages (from datasets~=2.18.0) (3.8.3)\n",
            "Requirement already satisfied: huggingface-hub>=0.19.4 in /Users/wiksrivastava/anaconda3/lib/python3.11/site-packages (from datasets~=2.18.0) (0.23.0)\n",
            "Requirement already satisfied: packaging in /Users/wiksrivastava/anaconda3/lib/python3.11/site-packages (from datasets~=2.18.0) (23.0)\n",
            "Requirement already satisfied: pyyaml>=5.1 in /Users/wiksrivastava/anaconda3/lib/python3.11/site-packages (from datasets~=2.18.0) (6.0)\n",
            "Requirement already satisfied: attrs>=17.3.0 in /Users/wiksrivastava/anaconda3/lib/python3.11/site-packages (from aiohttp->datasets~=2.18.0) (22.1.0)\n",
            "Requirement already satisfied: charset-normalizer<3.0,>=2.0 in /Users/wiksrivastava/anaconda3/lib/python3.11/site-packages (from aiohttp->datasets~=2.18.0) (2.0.4)\n",
            "Requirement already satisfied: multidict<7.0,>=4.5 in /Users/wiksrivastava/anaconda3/lib/python3.11/site-packages (from aiohttp->datasets~=2.18.0) (6.0.2)\n",
            "Requirement already satisfied: async-timeout<5.0,>=4.0.0a3 in /Users/wiksrivastava/anaconda3/lib/python3.11/site-packages (from aiohttp->datasets~=2.18.0) (4.0.2)\n",
            "Requirement already satisfied: yarl<2.0,>=1.0 in /Users/wiksrivastava/anaconda3/lib/python3.11/site-packages (from aiohttp->datasets~=2.18.0) (1.8.1)\n",
            "Requirement already satisfied: frozenlist>=1.1.1 in /Users/wiksrivastava/anaconda3/lib/python3.11/site-packages (from aiohttp->datasets~=2.18.0) (1.3.3)\n",
            "Requirement already satisfied: aiosignal>=1.1.2 in /Users/wiksrivastava/anaconda3/lib/python3.11/site-packages (from aiohttp->datasets~=2.18.0) (1.2.0)\n",
            "Requirement already satisfied: typing-extensions>=3.7.4.3 in /Users/wiksrivastava/anaconda3/lib/python3.11/site-packages (from huggingface-hub>=0.19.4->datasets~=2.18.0) (4.7.1)\n",
            "Requirement already satisfied: idna<4,>=2.5 in /Users/wiksrivastava/anaconda3/lib/python3.11/site-packages (from requests>=2.19.0->datasets~=2.18.0) (3.4)\n",
            "Requirement already satisfied: urllib3<3,>=1.21.1 in /Users/wiksrivastava/anaconda3/lib/python3.11/site-packages (from requests>=2.19.0->datasets~=2.18.0) (1.26.16)\n",
            "Requirement already satisfied: certifi>=2017.4.17 in /Users/wiksrivastava/anaconda3/lib/python3.11/site-packages (from requests>=2.19.0->datasets~=2.18.0) (2023.7.22)\n",
            "Requirement already satisfied: python-dateutil>=2.8.2 in /Users/wiksrivastava/anaconda3/lib/python3.11/site-packages (from pandas->datasets~=2.18.0) (2.8.2)\n",
            "Requirement already satisfied: pytz>=2020.1 in /Users/wiksrivastava/anaconda3/lib/python3.11/site-packages (from pandas->datasets~=2.18.0) (2022.7)\n",
            "Requirement already satisfied: tzdata>=2022.1 in /Users/wiksrivastava/anaconda3/lib/python3.11/site-packages (from pandas->datasets~=2.18.0) (2024.1)\n",
            "Requirement already satisfied: six>=1.5 in /Users/wiksrivastava/anaconda3/lib/python3.11/site-packages (from python-dateutil>=2.8.2->pandas->datasets~=2.18.0) (1.16.0)\n"
          ]
        }
      ],
      "source": [
        "! pip install -U datasets~=2.18.0"
      ]
    },
    {
      "cell_type": "markdown",
      "metadata": {
        "collapsed": false,
        "id": "n-J0bd6hJqQj",
        "pycharm": {
          "name": "#%% md\n"
        }
      },
      "source": [
        "We will also need those packages, so let's import them now!"
      ]
    },
    {
      "cell_type": "code",
      "execution_count": 2,
      "metadata": {
        "id": "9E-maoXPJqQk",
        "pycharm": {
          "name": "#%%\n"
        }
      },
      "outputs": [],
      "source": [
        "from collections import Counter\n",
        "import re    # for regular expressions\n",
        "from string import punctuation\n",
        "\n",
        "import numpy as np\n",
        "import pandas as pd\n",
        "import matplotlib.pyplot as plt\n",
        "import datasets"
      ]
    },
    {
      "cell_type": "markdown",
      "metadata": {
        "collapsed": false,
        "id": "dNyZiYIEJqQk",
        "pycharm": {
          "name": "#%% md\n"
        }
      },
      "source": [
        "<a name='1'></a>\n",
        "## 1. Load Dataset\n",
        "\n",
        "We will be using \"tweet_eval\" dataset and specifically the hate speech subset. You can find more info on how this dataset has been created in the following papers [[1](https://aclanthology.org/S19-2007.pdf)],[[2](https://aclanthology.org/2020.findings-emnlp.148.pdf)]. The dataset contains tweets from 2018 and the goal is to identify whether a tweet is hateful or not against any of the two target communities: immigrants and women. Make sure to read and reflect on how annotation was performed, since this can give you some insights on the modeling.\n",
        "\n",
        "In order to load a dataset simply call ```load_dataset``` function specifying the dataset name. You can find many more datasets at the huggingface website."
      ]
    },
    {
      "cell_type": "code",
      "execution_count": 3,
      "metadata": {
        "id": "ljTlpzURJqQk",
        "pycharm": {
          "name": "#%%\n"
        }
      },
      "outputs": [
        {
          "name": "stdout",
          "output_type": "stream",
          "text": [
            "DatasetDict({\n",
            "    train: Dataset({\n",
            "        features: ['text', 'label'],\n",
            "        num_rows: 9000\n",
            "    })\n",
            "    test: Dataset({\n",
            "        features: ['text', 'label'],\n",
            "        num_rows: 2970\n",
            "    })\n",
            "    validation: Dataset({\n",
            "        features: ['text', 'label'],\n",
            "        num_rows: 1000\n",
            "    })\n",
            "})\n"
          ]
        }
      ],
      "source": [
        "tweet_ds = datasets.load_dataset('tweet_eval', 'hate')\n",
        "print(tweet_ds)\n",
        "\n",
        "# this will make the dataset return the values as numpy arrays\n",
        "tweet_ds = tweet_ds.with_format(\"np\")"
      ]
    },
    {
      "cell_type": "markdown",
      "metadata": {
        "collapsed": false,
        "id": "-M-GMrZqJqQm",
        "pycharm": {
          "name": "#%% md\n"
        }
      },
      "source": [
        "The loaded dataset contains three subsets (\"train\", \"validation\", and \"test\"). Each consists of two columns: \"text\" and \"label\". Label of 0 means \"non-hate\" and label of 1 means \"hate\" We can access them like so:"
      ]
    },
    {
      "cell_type": "code",
      "execution_count": 4,
      "metadata": {
        "id": "NbCnVRuNJqQm",
        "pycharm": {
          "name": "#%%\n"
        }
      },
      "outputs": [
        {
          "name": "stdout",
          "output_type": "stream",
          "text": [
            "{'text': '@user nice new signage. Are you not concerned by Beatlemania -style hysterical crowds crongregating on you…', 'label': 0}\n",
            "{'text': 'A woman who you fucked multiple times saying yo dick small is a compliment you know u hit that spot 😎', 'label': 1}\n",
            "{'text': '@user @user real talk do you have eyes or were they gouged out by a rapefugee?', 'label': 1}\n",
            "{'text': 'your girlfriend lookin at me like a groupie in this bitch!', 'label': 1}\n",
            "{'text': 'Hysterical woman like @user', 'label': 0}\n",
            "{'text': 'Me flirting- So tell me about your father...', 'label': 0}\n",
            "{'text': 'The Philippine Catholic bishops\\' work for migrant workers should focus on families who are \"paying the great...', 'label': 0}\n",
            "{'text': \"I AM NOT GOING AFTER YOUR EX BF YOU LIEING SACK OF SHIT ! I'm done with you dude that's why I dumped your ass cause your a lieing 😂😡 bitch\", 'label': 1}\n"
          ]
        }
      ],
      "source": [
        "for i in range(8):\n",
        "    print(tweet_ds['train'][i])"
      ]
    },
    {
      "cell_type": "markdown",
      "metadata": {
        "collapsed": false,
        "id": "2BH8vvzqJqQm",
        "pycharm": {
          "name": "#%% md\n"
        }
      },
      "source": [
        "<font color='red'>\n",
        "\n",
        "as part of the dataset inspection, it might be helpful to help them extract it and actually see all data points\n",
        "\n",
        "</font>"
      ]
    },
    {
      "cell_type": "markdown",
      "metadata": {
        "collapsed": false,
        "id": "W9ijz8qNJqQm",
        "pycharm": {
          "name": "#%% md\n"
        }
      },
      "source": [
        "You can easily cast the dataset to the pandas DataFrame. We will do that below to plot the balance of the labels."
      ]
    },
    {
      "cell_type": "code",
      "execution_count": 5,
      "metadata": {
        "id": "EwcVYkb7JqQn",
        "pycharm": {
          "name": "#%%\n"
        }
      },
      "outputs": [
        {
          "data": {
            "text/plain": [
              "<Axes: xlabel='label'>"
            ]
          },
          "execution_count": 5,
          "metadata": {},
          "output_type": "execute_result"
        },
        {
          "data": {
            "image/png": "[encoded data removed]",
            "text/plain": [
              "<Figure size 640x480 with 1 Axes>"
            ]
          },
          "metadata": {},
          "output_type": "display_data"
        }
      ],
      "source": [
        "pd.DataFrame(tweet_ds['train']).groupby('label').count().plot.bar()"
      ]
    },
    {
      "cell_type": "markdown",
      "metadata": {
        "collapsed": false,
        "id": "h8NhtvljJqQn",
        "pycharm": {
          "name": "#%% md\n"
        }
      },
      "source": [
        "We can filter the examples based on the label. We will use ```filter()``` method. See this link for more details [https://huggingface.co/docs/datasets/en/use_dataset](https://huggingface.co/docs/datasets/en/use_dataset)."
      ]
    },
    {
      "cell_type": "code",
      "execution_count": 6,
      "metadata": {
        "id": "RqX3YWMEJqQn",
        "pycharm": {
          "name": "#%%\n"
        }
      },
      "outputs": [
        {
          "name": "stdout",
          "output_type": "stream",
          "text": [
            "{'text': '@user nice new signage. Are you not concerned by Beatlemania -style hysterical crowds crongregating on you…', 'label': 0}\n",
            "{'text': 'Hysterical woman like @user', 'label': 0}\n",
            "{'text': 'Me flirting- So tell me about your father...', 'label': 0}\n",
            "{'text': 'The Philippine Catholic bishops\\' work for migrant workers should focus on families who are \"paying the great...', 'label': 0}\n",
            "{'text': 'When cuffin season is finally over', 'label': 0}\n",
            "{'text': \"Only that in you which is me can hear what I'm saying. ~Baba Ram Dass\", 'label': 0}\n",
            "{'text': 'More migrants take sea route to #Spain than Italy this year: UN', 'label': 0}\n",
            "{'text': 'Essential reading for those in Scribner, Nebraska who are considering an anti-immigrant ballot measure.', 'label': 0}\n"
          ]
        }
      ],
      "source": [
        "no_hate = tweet_ds['train'].filter(lambda e: e['label'] == 0)\n",
        "for i in range(8):\n",
        "    print(no_hate[i])"
      ]
    },
    {
      "cell_type": "markdown",
      "metadata": {
        "collapsed": false,
        "id": "piHOC8PXJqQn",
        "pycharm": {
          "name": "#%% md\n"
        }
      },
      "source": [
        "Let's use the ```filter()``` method to remove empty entries."
      ]
    },
    {
      "cell_type": "code",
      "execution_count": 7,
      "metadata": {
        "id": "xLcib2x5JqQn",
        "pycharm": {
          "name": "#%%\n"
        }
      },
      "outputs": [
        {
          "name": "stdout",
          "output_type": "stream",
          "text": [
            "DatasetDict({\n",
            "    train: Dataset({\n",
            "        features: ['text', 'label'],\n",
            "        num_rows: 8993\n",
            "    })\n",
            "    test: Dataset({\n",
            "        features: ['text', 'label'],\n",
            "        num_rows: 2970\n",
            "    })\n",
            "    validation: Dataset({\n",
            "        features: ['text', 'label'],\n",
            "        num_rows: 999\n",
            "    })\n",
            "})\n"
          ]
        }
      ],
      "source": [
        "tweet_ds = tweet_ds.filter(lambda e: e['text'] != '' and e['text'] is not None)\n",
        "print(tweet_ds)"
      ]
    },
    {
      "cell_type": "markdown",
      "metadata": {
        "collapsed": false,
        "id": "uE-RHPN2JqQn",
        "pycharm": {
          "name": "#%% md\n"
        }
      },
      "source": [
        "<a name='2'></a>\n",
        "## 2. Preprocess Dataset\n",
        "\n",
        "In this section we will preprocess the dataset by cleaning and tokenizing the entries. You will use the knowledge and skills from the previous lab.\n",
        "\n",
        "Datasets library contains a very useful method ```map```. It expects a function that will receive an example from the dataset. This function will be applied to all entries."
      ]
    },
    {
      "cell_type": "markdown",
      "metadata": {
        "collapsed": false,
        "id": "WTuR0bMNJqQo",
        "pycharm": {
          "name": "#%% md\n"
        }
      },
      "source": [
        "<a name='e1'></a>\n",
        "### Exercise 1 (points 7)\n",
        "\n",
        "Fill in the function in order to clean the examples. We already provide some pre-processing (e.g. turn text to a lower case) and some regular expressions to handle some punctuation special cases, however the goal is for you to implement your own operations. You might want to inspect the dataset (e.g. check several data points) before you implement this method and also you might need to revisit it after you have seen the first classification results. For every operation, try to also include the intuition behind it (unless it's obvious).\n",
        "\n",
        "There is no exclusive list of pre-processing you need to have (since many decisions will depend on your observations). Try to include different examples of handling different language issues with specific regular expressions or other pre-processing decisions."
      ]
    },
    {
      "cell_type": "code",
      "execution_count": 8,
      "metadata": {
        "id": "T2EmO2qmJqQo",
        "pycharm": {
          "name": "#%%\n"
        }
      },
      "outputs": [],
      "source": [
        "def clean(example):\n",
        "    \"\"\"\n",
        "    Cleans the example from the Dataset\n",
        "    Args:\n",
        "        example: an example from the Dataset\n",
        "\n",
        "    Returns: update example containing 'clean' column\n",
        "\n",
        "    \"\"\"\n",
        "    text = example['text']\n",
        "\n",
        "    # Empty text\n",
        "    if type(text) not in (str, np.str_) or text=='':\n",
        "        example['clean'] = ''\n",
        "        return example\n",
        "\n",
        "    # 'text' from the example can be of type numpy.str_, let's convert it to a python str\n",
        "    text = str(text)\n",
        "    text = text.lower()\n",
        "\n",
        "    # Clean the text\n",
        "    text = re.sub(\"\\'s\", \" \", text) # we have cases like \"Sam is\" or \"Sam's\" (i.e. his) these two cases aren't separable, I choose to compromise are kill \"'s\" directly\n",
        "    text = re.sub(\" whats \", \" what is \", text, flags=re.IGNORECASE)\n",
        "    text = re.sub(\"\\'ve\", \" have \", text)\n",
        "\n",
        "    #you might need more\n",
        "    #add them here\n",
        "\n",
        "    ### YOUR CODE HERE\n",
        "\n",
        "    text = re.sub(r'http\\S+', '', text)\n",
        "    text = re.sub(r'@[^\\s]+', '', text)\n",
        "    \n",
        "    text = re.sub(r'#[^\\s]+', '', text)\n",
        "    text = re.sub(r'[^A-Za-z0-9\\s]', '', text)    \n",
        "    text = re.sub(r'\\s+', ' ', text).strip()\n",
        "\n",
        "    text = re.sub(\"\\'ll\", \" will \", text)\n",
        "    text = re.sub(\"\\'re\", \" are \", text)\n",
        "    text = re.sub(\"\\'d\", \" would \", text)\n",
        "    text = re.sub(\"\\'m\", \" am \", text)\n",
        "    text = re.sub(\"n\\'t\", \" not \", text)\n",
        "\n",
        "    text = re.sub(\" lol \", ' laugh out loud ', text, flags=re.IGNORECASE)\n",
        "    text = re.sub(\" brb \", ' be right back ', text, flags=re.IGNORECASE)\n",
        "    text = re.sub(\" btw \", ' by the way ', text, flags=re.IGNORECASE)\n",
        "    text = re.sub(\" omg \", ' oh my god ', text, flags=re.IGNORECASE)\n",
        "    text = re.sub(\" wtf \", ' what the fuck ', text, flags=re.IGNORECASE)\n",
        "    text = re.sub(\" idk \", ' I don\\'t know ', text, flags=re.IGNORECASE)\n",
        "    text = re.sub(\" imo \", ' in my opinion ', text, flags=re.IGNORECASE)\n",
        "    text = re.sub(\" rofl \", ' rolling on the floor laughing ', text, flags=re.IGNORECASE)\n",
        "    text = re.sub(\" ttyl \", ' talk to you later ', text, flags=re.IGNORECASE)\n",
        "    text = re.sub(\" gtg \", ' got to go ', text, flags=re.IGNORECASE)\n",
        "    text = re.sub(\" omw \", ' on my way ', text, flags=re.IGNORECASE)\n",
        "    text = re.sub(\" fwiw \", ' for what it\\'s worth ', text, flags=re.IGNORECASE)\n",
        "    text = re.sub(\" afaik \", ' as far as I know ', text, flags=re.IGNORECASE)\n",
        "    text = re.sub(\" irl \", ' in real life ', text, flags=re.IGNORECASE)\n",
        "    text = re.sub(\" np \", ' no problem ', text, flags=re.IGNORECASE)\n",
        "    text = re.sub(\" rt \", ' retweet ', text, flags=re.IGNORECASE)\n",
        "    text = re.sub(\" smh \", ' shaking my head ', text, flags=re.IGNORECASE)\n",
        "    text = re.sub(\" tbt \", ' throwback thursday ', text, flags=re.IGNORECASE)\n",
        "    text = re.sub(\" tyt \", ' take your time ', text, flags=re.IGNORECASE)\n",
        "    text = re.sub(\" icymi \", ' in case you missed it ', text, flags=re.IGNORECASE)\n",
        "    text = re.sub(\" yolo \", ' you only live once ', text, flags=re.IGNORECASE)\n",
        "    \n",
        "    # Tokenization\n",
        "\n",
        "\n",
        "\n",
        "\n",
        "\n",
        "\n",
        "    ### YOUR CODE ENDS HERE\n",
        "\n",
        "    # remove comma between numbers, i.e. 15,000 -> 15000\n",
        "    text = re.sub('(?<=[0-9])\\,(?=[0-9])', \"\", text)\n",
        "\n",
        "    # Update the example with the cleaned text\n",
        "    example['clean'] = text.strip()\n",
        "    return example"
      ]
    },
    {
      "cell_type": "markdown",
      "metadata": {
        "collapsed": false,
        "id": "PLNEnuVoJqQo",
        "pycharm": {
          "name": "#%% md\n"
        }
      },
      "source": [
        "This is an example of applying the ```clean()``` function you just wrote to a single entry of the dataset. The function added a 'clean' field to the example."
      ]
    },
    {
      "cell_type": "code",
      "execution_count": 9,
      "metadata": {
        "id": "ClLlgEPtJqQo",
        "pycharm": {
          "name": "#%%\n"
        }
      },
      "outputs": [
        {
          "name": "stdout",
          "output_type": "stream",
          "text": [
            "{'text': 'Cory Booker and Kamala Harris competing for Most Hysterical Woman at the Kavanaugh hearings, Coulter hilariously tweeted.And yes, liberals immediately got triggered on Twitter, saying her joke was offensive. To them we say, suck it up, snowflakes.', 'label': 1}\n",
            "{'text': 'Cory Booker and Kamala Harris competing for Most Hysterical Woman at the Kavanaugh hearings, Coulter hilariously tweeted.And yes, liberals immediately got triggered on Twitter, saying her joke was offensive. To them we say, suck it up, snowflakes.', 'label': 1, 'clean': 'cory booker and kamala harris competing for most hysterical woman at the kavanaugh hearings coulter hilariously tweetedand yes liberals immediately got triggered on twitter saying her joke was offensive to them we say suck it up snowflakes'}\n"
          ]
        }
      ],
      "source": [
        "print(tweet_ds['train'][10])\n",
        "print(clean(tweet_ds['train'][10]))"
      ]
    },
    {
      "cell_type": "markdown",
      "metadata": {
        "collapsed": false,
        "id": "5gCMr7svJqQo",
        "pycharm": {
          "name": "#%% md\n"
        }
      },
      "source": [
        "Let's finally use the ```map()``` method and apply your `clean()` function to all entries of the dataset. You can see that the ```clean``` column has been added to each split."
      ]
    },
    {
      "cell_type": "code",
      "execution_count": 10,
      "metadata": {
        "id": "jSD3kfxUJqQo",
        "pycharm": {
          "name": "#%%\n"
        }
      },
      "outputs": [
        {
          "name": "stdout",
          "output_type": "stream",
          "text": [
            "DatasetDict({\n",
            "    train: Dataset({\n",
            "        features: ['text', 'label', 'clean'],\n",
            "        num_rows: 8993\n",
            "    })\n",
            "    test: Dataset({\n",
            "        features: ['text', 'label', 'clean'],\n",
            "        num_rows: 2970\n",
            "    })\n",
            "    validation: Dataset({\n",
            "        features: ['text', 'label', 'clean'],\n",
            "        num_rows: 999\n",
            "    })\n",
            "})\n"
          ]
        }
      ],
      "source": [
        "tweet_ds = tweet_ds.map(clean)\n",
        "print(tweet_ds)"
      ]
    },
    {
      "cell_type": "markdown",
      "metadata": {
        "collapsed": false,
        "id": "xnPHE9KVJqQo",
        "pycharm": {
          "name": "#%% md\n"
        }
      },
      "source": [
        "<a name='3'></a>\n",
        "## 3. Build Vocabulary"
      ]
    },
    {
      "cell_type": "markdown",
      "metadata": {
        "collapsed": false,
        "id": "Q2mkeRlEJqQp",
        "pycharm": {
          "name": "#%% md\n"
        }
      },
      "source": [
        "Feature engineering is when NLP task-specific knowledge comes in handy, and make it more likely for a simple classifier to learn the task. This requires us to index tokens and create meaningful representations out of them.\n",
        "\n",
        "Firstm we have to create a vocabulary. In the previous section, we implemeneted the tokenization and the cleaning.\n",
        "\n",
        "In this section we will start by building the vocabulary for your dataset (aka the number of different words in the corpus). We will build it based on the cleaned text of the `train` split. We will investigate some properties of corpora (e.g. Zipf's law, most common words for hate speech language).\n",
        "\n"
      ]
    },
    {
      "cell_type": "markdown",
      "metadata": {
        "collapsed": false,
        "id": "YenDNVQSJqQp",
        "pycharm": {
          "name": "#%% md\n"
        }
      },
      "source": [
        "<a name='e2'></a>\n",
        "### Exercise 2 (points 2)\n",
        "\n",
        "Fill in the following function so that the ```Counter``` is returned containing all words of a sentence with the number of occurrences. Check the documentation if needed [https://docs.python.org/3/library/collections.html#collections.Counter](https://docs.python.org/3/library/collections.html#collections.Counter)"
      ]
    },
    {
      "cell_type": "code",
      "execution_count": 11,
      "metadata": {
        "id": "031VQW14JqQp",
        "pycharm": {
          "name": "#%%\n"
        }
      },
      "outputs": [],
      "source": [
        "def get_bag_of_words(sentence):\n",
        "    \"\"\"\n",
        "    Tokenizes the sentence into separate words.\n",
        "    Args:\n",
        "        sentence: string containing a sentence\n",
        "\n",
        "    Returns: Counter of the tokens of the input sentence\n",
        "\n",
        "    \"\"\"\n",
        "    ### YOUR CODE HERE\n",
        "    tokens = sentence.split()\n",
        "    word_counts = Counter(tokens)\n",
        "    return word_counts\n",
        "    ### YOUR CODE ENDS HERE\n"
      ]
    },
    {
      "cell_type": "markdown",
      "metadata": {
        "collapsed": false,
        "id": "yeNIKx6KJqQp",
        "pycharm": {
          "name": "#%% md\n"
        }
      },
      "source": [
        "Let's test the function you just wrote:"
      ]
    },
    {
      "cell_type": "code",
      "execution_count": 12,
      "metadata": {
        "id": "b8Vrbs3sJqQp",
        "pycharm": {
          "name": "#%%\n"
        }
      },
      "outputs": [
        {
          "name": "stdout",
          "output_type": "stream",
          "text": [
            "nice new signage are you not concerned by beatlemania style hysterical crowds crongregating on you\n",
            "Counter({'you': 2, 'nice': 1, 'new': 1, 'signage': 1, 'are': 1, 'not': 1, 'concerned': 1, 'by': 1, 'beatlemania': 1, 'style': 1, 'hysterical': 1, 'crowds': 1, 'crongregating': 1, 'on': 1})\n"
          ]
        }
      ],
      "source": [
        "sentence = tweet_ds['train'][0]['clean']\n",
        "print(sentence)\n",
        "\n",
        "sentence_bow = get_bag_of_words(sentence)\n",
        "print(sentence_bow)"
      ]
    },
    {
      "cell_type": "markdown",
      "metadata": {
        "collapsed": false,
        "id": "IeMnM-WHJqQp",
        "pycharm": {
          "name": "#%% md\n"
        }
      },
      "source": [
        "We will also be interested in the word count of the whole dataset (or it's subset). The next function will combine word counts specified as a list into a single Counter."
      ]
    },
    {
      "cell_type": "markdown",
      "metadata": {
        "collapsed": false,
        "id": "wpRuUYOCJqQp",
        "pycharm": {
          "name": "#%% md\n"
        }
      },
      "source": [
        "<a name='e3'></a>\n",
        "### Exercise 3 (points 2)\n",
        "\n",
        "Fill in the following function to return a counter combining the provided list of counters. If the word is present in multiple counters the result should sum all the occurrences."
      ]
    },
    {
      "cell_type": "code",
      "execution_count": 13,
      "metadata": {
        "id": "Cu5qzL8NJqQp",
        "pycharm": {
          "name": "#%%\n"
        }
      },
      "outputs": [],
      "source": [
        "def aggregate_bags_of_words(bags_of_words):\n",
        "    \"\"\"\n",
        "    Aggregates the provided list containing bags-of-words\n",
        "    Args:\n",
        "        bags_of_words: list of Counters\n",
        "\n",
        "    Returns: Counter of the tokens of all bags-of-words\n",
        "\n",
        "    \"\"\"\n",
        "       # Initialize an empty Counter to aggregate the tokens\n",
        "    aggregated_bag = Counter()\n",
        "\n",
        "    # Iterate over each bag of words\n",
        "    for bag in bags_of_words:\n",
        "        # Update the aggregated bag with the counts from the current bag\n",
        "        aggregated_bag.update(bag)\n",
        "\n",
        "    # Return the aggregated bag\n",
        "    return aggregated_bag\n",
        "    ### YOUR CODE ENDS HERE"
      ]
    },
    {
      "cell_type": "markdown",
      "metadata": {
        "collapsed": false,
        "id": "cFD0ftRUJqQp",
        "pycharm": {
          "name": "#%% md\n"
        }
      },
      "source": [
        "The next function will calculate word counts of each cleaned sentence of the dataset split and then combine them into a single Counter."
      ]
    },
    {
      "cell_type": "markdown",
      "metadata": {
        "collapsed": false,
        "id": "mChR7aFaJqQp",
        "pycharm": {
          "name": "#%% md\n"
        }
      },
      "source": [
        "<a name='e4'></a>\n",
        "### Exercise 4 (points 2)\n",
        "\n",
        "Fill in the following function to obtain the counter representing the whole dataset. Use the function ```aggregate_bags_of_words()``` you implemented in the previous exercise."
      ]
    },
    {
      "cell_type": "code",
      "execution_count": 14,
      "metadata": {
        "id": "H8P_tkpHJqQp",
        "pycharm": {
          "name": "#%%\n"
        }
      },
      "outputs": [],
      "source": [
        "from collections import Counter\n",
        "\n",
        "def get_dataset_word_count(dataset_split):\n",
        "    \"\"\"\n",
        "    Creates a word count (a Counter) for the dataset split.\n",
        "    Args:\n",
        "        dataset_split: a dataset split\n",
        "\n",
        "    Returns: Counter of the tokens of the whole split\n",
        "\n",
        "    \"\"\"\n",
        "    temp = []\n",
        "    for i in range(len(dataset_split)):\n",
        "        temp.append(get_bag_of_words(dataset_split[i]['clean']))\n",
        "\n",
        "    return aggregate_bags_of_words(temp)"
      ]
    },
    {
      "cell_type": "markdown",
      "metadata": {
        "collapsed": false,
        "id": "vXQikOKLJqQp",
        "pycharm": {
          "name": "#%% md\n"
        }
      },
      "source": [
        "Here are the word counts of the `train` and `validation` subsets."
      ]
    },
    {
      "cell_type": "code",
      "execution_count": 15,
      "metadata": {
        "id": "nQRv43qGJqQp",
        "pycharm": {
          "name": "#%%\n"
        }
      },
      "outputs": [],
      "source": [
        "train_word_count = get_dataset_word_count(tweet_ds['train'])\n",
        "validation_word_count = get_dataset_word_count(tweet_ds['validation'])"
      ]
    },
    {
      "cell_type": "markdown",
      "metadata": {
        "collapsed": false,
        "id": "3dnzdCd6JqQp",
        "pycharm": {
          "name": "#%% md\n"
        }
      },
      "source": [
        "Let us explore them a bit more"
      ]
    },
    {
      "cell_type": "code",
      "execution_count": 16,
      "metadata": {
        "id": "JwXQOvRoJqQp",
        "pycharm": {
          "name": "#%%\n"
        }
      },
      "outputs": [
        {
          "name": "stdout",
          "output_type": "stream",
          "text": [
            "train word count: 16173\n",
            "Most common words:\n",
            "[('the', 5504), ('to', 4783), ('a', 3923), ('you', 3361), ('and', 3202), ('of', 2877), ('in', 2560), ('is', 2051)]\n",
            "Least common words:\n",
            "[('gangbang', 1), ('leaf', 1), ('generalshame', 1), ('happiest', 1), ('birthdays', 1), ('oooohhhh', 1), ('kennedys', 1), ('picwhy', 1)]\n",
            "validation word count: 4716\n",
            "[('the', 758), ('to', 613), ('you', 518), ('a', 498), ('and', 420), ('of', 349), ('in', 330), ('is', 267), ('i', 226), ('that', 199)]\n",
            "Most common words:\n",
            "[('the', 758), ('to', 613), ('you', 518), ('a', 498), ('and', 420), ('of', 349), ('in', 330), ('is', 267)]\n",
            "Least common words:\n",
            "[('voting', 1), ('learned', 1), ('independence', 1), ('infeuenc', 1), ('scale', 1), ('delhihawkers', 1), ('menaceillegal', 1), ('constructionsappeasement', 1)]\n"
          ]
        }
      ],
      "source": [
        "print(f'train word count: {len(train_word_count)}')\n",
        "print('Most common words:')\n",
        "print(train_word_count.most_common(8))\n",
        "\n",
        "print('Least common words:')\n",
        "print(train_word_count.most_common()[-8:])\n",
        "\n",
        "print(f'validation word count: {len(validation_word_count)}')\n",
        "print(validation_word_count.most_common(10))\n",
        "\n",
        "print('Most common words:')\n",
        "print(validation_word_count.most_common(8))\n",
        "\n",
        "print('Least common words:')\n",
        "print(validation_word_count.most_common()[-8:])"
      ]
    },
    {
      "cell_type": "markdown",
      "metadata": {
        "collapsed": false,
        "id": "S6hfCe7EJqQp",
        "pycharm": {
          "name": "#%% md\n"
        }
      },
      "source": [
        "We can also plot the counts of the words. You can check the [Power law](https://en.wikipedia.org/wiki/Power_law) if you are more interested."
      ]
    },
    {
      "cell_type": "code",
      "execution_count": 17,
      "metadata": {
        "id": "29gZr1jvJqQp",
        "pycharm": {
          "name": "#%%\n"
        }
      },
      "outputs": [
        {
          "data": {
            "image/png": "[encoded data removed]",
            "text/plain": [
              "<Figure size 640x480 with 1 Axes>"
            ]
          },
          "metadata": {},
          "output_type": "display_data"
        }
      ],
      "source": [
        "plt.loglog([val for word,val in train_word_count.most_common()])\n",
        "plt.loglog([val for word,val in validation_word_count.most_common()])\n",
        "plt.xlabel('rank')\n",
        "plt.ylabel('count')\n",
        "plt.legend(['training set','validation set']);"
      ]
    },
    {
      "cell_type": "markdown",
      "metadata": {
        "collapsed": false,
        "id": "X-ConZy-JqQq",
        "pycharm": {
          "name": "#%% md\n"
        }
      },
      "source": [
        "Now let's look at the sentences that are marked as hate and non-hate. We can use the method ```filter``` to get two datasets containing only the sentences labeled the same."
      ]
    },
    {
      "cell_type": "code",
      "execution_count": 18,
      "metadata": {
        "id": "5XhwCJaIJqQq",
        "pycharm": {
          "name": "#%%\n"
        }
      },
      "outputs": [],
      "source": [
        "non_hate_ds = tweet_ds['train'].filter(lambda ex: ex['label'] == 0)\n",
        "hate_ds = tweet_ds['train'].filter(lambda ex: ex['label'] == 1)\n",
        "\n",
        "non_hate_word_count = get_dataset_word_count(non_hate_ds)\n",
        "hate_word_count = get_dataset_word_count(hate_ds)"
      ]
    },
    {
      "cell_type": "markdown",
      "metadata": {
        "collapsed": false,
        "id": "rodrUyuRJqQq",
        "pycharm": {
          "name": "#%% md\n"
        }
      },
      "source": [
        "Are there any words that are present in one but not in the other?\n"
      ]
    },
    {
      "cell_type": "markdown",
      "metadata": {
        "id": "cg460T13OE9R"
      },
      "source": [
        "<a name='e5'></a>\n",
        "### Exercise 5 (points 5)\n",
        "\n",
        "Fill in the following function to return (a Counter of) words that are not in the provided vocabulary. The vocabulary is in the form of a list of words."
      ]
    },
    {
      "cell_type": "code",
      "execution_count": 19,
      "metadata": {
        "id": "8WKJ3eApJqQq",
        "pycharm": {
          "name": "#%%\n"
        }
      },
      "outputs": [],
      "source": [
        "def get_oov_word_count(word_count, vocab):\n",
        "    \"\"\"\n",
        "    Finds the words that are not in the provided vocabulary.\n",
        "    Args:\n",
        "        word_count: Counter of the words\n",
        "        vocab: a list of words in the vocabulary\n",
        "\n",
        "    Returns: a Counter of the words that are outside the vocabulary\n",
        "\n",
        "    \"\"\"\n",
        "    ### YOUR CODE HERE\n",
        "    oov_words = Counter()\n",
        "    for word, count in word_count.items():\n",
        "        if word not in vocab:\n",
        "            oov_words[word] = count\n",
        "    return oov_words\n",
        "\n",
        "    ### YOUR CODE ENDS HERE"
      ]
    },
    {
      "cell_type": "code",
      "execution_count": 20,
      "metadata": {
        "id": "0MTLichSJqQq",
        "pycharm": {
          "name": "#%%\n"
        }
      },
      "outputs": [
        {
          "name": "stdout",
          "output_type": "stream",
          "text": [
            "only non-hate word count: 6998\n",
            "only hate word count: 4050\n",
            "Most common non-hate words:\n",
            "[('catholic', 19), ('palestinian', 18), ('blog', 18), ('rebuild', 17), ('advertising', 14), ('classes', 14), ('film', 12), ('sessions', 12), ('separating', 12), ('online', 12)]\n",
            "Most common hate words:\n",
            "[('cheated', 9), ('africans', 8), ('hystericalyoure', 8), ('dreamer', 7), ('lazy', 7), ('invaded', 6), ('overpopulation', 6), ('fame', 6), ('drivers', 6), ('michelle', 6)]\n"
          ]
        }
      ],
      "source": [
        "non_hate_only_word_count = get_oov_word_count(non_hate_word_count, hate_word_count.keys())\n",
        "hate_only_word_count = get_oov_word_count(hate_word_count, non_hate_word_count.keys())\n",
        "\n",
        "print(f'only non-hate word count: {len(non_hate_only_word_count)}')\n",
        "print(f'only hate word count: {len(hate_only_word_count)}')\n",
        "\n",
        "print('Most common non-hate words:')\n",
        "print(non_hate_only_word_count.most_common(10))\n",
        "\n",
        "print('Most common hate words:')\n",
        "print(hate_only_word_count.most_common(10))"
      ]
    },
    {
      "cell_type": "markdown",
      "metadata": {
        "collapsed": false,
        "id": "v8NyFBOAJqQq",
        "pycharm": {
          "name": "#%% md\n"
        }
      },
      "source": [
        "Often some words are used rarely in a specific context. We can remove them based on a threshold (a minimum number of occurrences that are required to keep the word in).\n",
        "\n"
      ]
    },
    {
      "cell_type": "markdown",
      "metadata": {
        "id": "mgffQ6JyOL-C"
      },
      "source": [
        "<a name='e6'></a>\n",
        "### Exercise 6 (points 4)\n",
        "\n",
        "Fill in the following function."
      ]
    },
    {
      "cell_type": "code",
      "execution_count": 21,
      "metadata": {
        "id": "a6JKSPwUJqQq",
        "pycharm": {
          "name": "#%%\n"
        }
      },
      "outputs": [],
      "source": [
        "def prune_word_count(word_count, threshold):\n",
        "    \"\"\"\n",
        "    Removes words from the word counter that occur less than the specified threshold\n",
        "    Args:\n",
        "        word_count: Counter with the word counts\n",
        "        threshold: a minimum number of occurrences\n",
        "\n",
        "    Returns: a Counter with frequent words\n",
        "\n",
        "    \"\"\"\n",
        "    ### YOUR CODE HERE\n",
        "\n",
        "    pruned_word_count = Counter({word: count for word, count in word_count.items() if count >= threshold})\n",
        "    return pruned_word_count\n",
        "\n",
        "\n",
        "    ### YOUR CODE ENDS HERE"
      ]
    },
    {
      "cell_type": "code",
      "execution_count": 22,
      "metadata": {
        "id": "MQAjjWtMJqQr",
        "pycharm": {
          "name": "#%%\n"
        }
      },
      "outputs": [],
      "source": [
        "pruned_word_count = prune_word_count(train_word_count, 4)"
      ]
    },
    {
      "cell_type": "code",
      "execution_count": 23,
      "metadata": {
        "id": "u011BldCJqQr",
        "pycharm": {
          "name": "#%%\n"
        }
      },
      "outputs": [
        {
          "name": "stdout",
          "output_type": "stream",
          "text": [
            "train word count: 16173\n",
            "pruned word count: 4006\n",
            "Most common words:\n",
            "[('the', 5504), ('to', 4783), ('a', 3923), ('you', 3361), ('and', 3202), ('of', 2877), ('in', 2560), ('is', 2051)]\n",
            "Least common words:\n",
            "[('harper', 4), ('I', 4), (\"don't\", 4), ('ms', 4), ('nerve', 4), ('jungle', 4), ('updates', 4), ('complex', 4)]\n"
          ]
        }
      ],
      "source": [
        "print(f'train word count: {len(train_word_count)}')\n",
        "print(f'pruned word count: {len(pruned_word_count)}')\n",
        "\n",
        "print('Most common words:')\n",
        "print(pruned_word_count.most_common(8))\n",
        "\n",
        "print('Least common words:')\n",
        "print(pruned_word_count.most_common()[-8:])"
      ]
    },
    {
      "cell_type": "markdown",
      "metadata": {
        "collapsed": false,
        "id": "U3UfnuzdJqQr",
        "pycharm": {
          "name": "#%% md\n"
        }
      },
      "source": [
        "Now (finally) we will construct a vocabulary. It will be a list of words (sorted alphabetically) that are present in the pruned word counter of the training subset."
      ]
    },
    {
      "cell_type": "code",
      "execution_count": 24,
      "metadata": {
        "id": "sOoJT1qPJqQr",
        "pycharm": {
          "name": "#%%\n"
        }
      },
      "outputs": [
        {
          "name": "stdout",
          "output_type": "stream",
          "text": [
            "Vocab size: 4006\n",
            "['0', '1', '10', '100', '10000', '100000', '11', '12', '13', '135']\n"
          ]
        }
      ],
      "source": [
        "vocab = sorted(pruned_word_count.keys())\n",
        "vocab_size = len(vocab)\n",
        "print(f'Vocab size: {vocab_size}')\n",
        "print(vocab[:10])"
      ]
    },
    {
      "cell_type": "markdown",
      "metadata": {
        "id": "j4UvEoGZMfMO"
      },
      "source": [
        "<a name='4'></a>\n",
        "## 4. Build a Handcrafted Classifier\n",
        "\n",
        "Recall from the lectures that a classification model, is practically a function that maps the input text to the output classes. In our case, the output classes are 2: non-hate (return ```0```) or hate (return ```1```). In this section, we will build such a function, based on a rule-based system.\n"
      ]
    },
    {
      "cell_type": "markdown",
      "metadata": {
        "id": "6a07uoNmv8jS"
      },
      "source": [
        "<a name='e7'></a>\n",
        "### Exercise 7 (points 5)\n",
        "\n",
        "In order to device such simple classification rules, we will use analysis we conducted previously about which words are frequent in which class (i.e. non-hate vs. hate). Try to figure out an algorithm (based on if-else statements, aka rules) that would detect hate speech. Code the algorithm in the following function. You should not try to be exhaustive here and come up with the perfect rules (we are not sure they exist) but it's important to reflect (at the next exercise) on the trade-offs of implementing a rule-based classifier."
      ]
    },
    {
      "cell_type": "code",
      "execution_count": 25,
      "metadata": {
        "id": "5IGmwIbSNLJc"
      },
      "outputs": [],
      "source": [
        "def detect_hate(text):\n",
        "  bow = get_bag_of_words(text)\n",
        "\n",
        "  ### YOUR CODE HERE\n",
        "\n",
        "  if 'whore' in bow or 'kill' in bow or '#buildthatwall' in bow or 'slut' in bow or 'nigger' in bow or 'nigga' in bow or 'faggot' in bow or 'cuck' in bow or 'retard' in bow or 'terrorist' in bow or 'hoe' in bow or 'hoes' in bow or 'ban' in bow or 'banned' in bow :\n",
        "    return 1                                                      \n",
        "  else:                                                         \n",
        "    return 0      \n",
        "\n",
        "  ### YOUR CODE ENDS HERE\n"
      ]
    },
    {
      "cell_type": "markdown",
      "metadata": {
        "id": "k6oSQTXqOEHi"
      },
      "source": [
        "The next code block will apply your function to the dataset to obtain the predictions."
      ]
    },
    {
      "cell_type": "code",
      "execution_count": 26,
      "metadata": {
        "id": "2zl10-5IOLa9"
      },
      "outputs": [],
      "source": [
        "def apply_hate_speech_detector(example):\n",
        "  text = example['clean']\n",
        "  predicted_label = detect_hate(text)\n",
        "  example['predicted_label'] = predicted_label\n",
        "  return example\n",
        "\n",
        "# apply the function to all examples\n",
        "predictions = tweet_ds.map(apply_hate_speech_detector)\n",
        "# remove columns other than 'predicted_label'\n",
        "predictions = predictions.remove_columns(tweet_ds['train'].column_names)"
      ]
    },
    {
      "cell_type": "markdown",
      "metadata": {
        "id": "nIgC2sP7Onx-"
      },
      "source": [
        "Here we create a small function to print the F1 score for predictions of the model. We will use it shortly."
      ]
    },
    {
      "cell_type": "code",
      "execution_count": 27,
      "metadata": {
        "id": "iixOOsbJJqQs",
        "pycharm": {
          "name": "#%%\n"
        }
      },
      "outputs": [],
      "source": [
        "from sklearn.metrics import f1_score, classification_report, accuracy_score\n",
        "\n",
        "def print_scores(y, prediction, report=False):\n",
        "    print('f1:', f1_score(y, prediction, average='macro'))\n",
        "    if report:\n",
        "        print(classification_report(y, prediction))"
      ]
    },
    {
      "cell_type": "markdown",
      "metadata": {
        "id": "EGbPx_7mnjQp"
      },
      "source": [
        "Let's retrieve the predictions for each subset (train, validation, test)."
      ]
    },
    {
      "cell_type": "code",
      "execution_count": 28,
      "metadata": {
        "id": "Pq83XswoPTvd"
      },
      "outputs": [
        {
          "name": "stdout",
          "output_type": "stream",
          "text": [
            "DatasetDict({\n",
            "    train: Dataset({\n",
            "        features: ['predicted_label'],\n",
            "        num_rows: 8993\n",
            "    })\n",
            "    test: Dataset({\n",
            "        features: ['predicted_label'],\n",
            "        num_rows: 2970\n",
            "    })\n",
            "    validation: Dataset({\n",
            "        features: ['predicted_label'],\n",
            "        num_rows: 999\n",
            "    })\n",
            "})\n",
            "train\n",
            "(8993,)\n",
            "(8993,)\n",
            "valid\n",
            "(999,)\n",
            "(999,)\n",
            "test\n",
            "(2970,)\n",
            "(2970,)\n"
          ]
        }
      ],
      "source": [
        "print(predictions)\n",
        "\n",
        "train_prediction = predictions['train']['predicted_label']\n",
        "y_train = tweet_ds['train']['label']\n",
        "print('train')\n",
        "print(train_prediction.shape)\n",
        "print(y_train.shape)\n",
        "\n",
        "valid_prediction = predictions['validation']['predicted_label']\n",
        "y_valid = tweet_ds['validation']['label']\n",
        "print('valid')\n",
        "print(valid_prediction.shape)\n",
        "print(y_valid.shape)\n",
        "\n",
        "test_prediction = predictions['test']['predicted_label']\n",
        "y_test = tweet_ds['test']['label']\n",
        "print('test')\n",
        "print(test_prediction.shape)\n",
        "print(y_test.shape)\n"
      ]
    },
    {
      "cell_type": "markdown",
      "metadata": {
        "id": "EwJzn9CInrY-"
      },
      "source": [
        "Here we will print the F1 scores of your predictions for each subset."
      ]
    },
    {
      "cell_type": "code",
      "execution_count": 29,
      "metadata": {
        "id": "PucCvtHGU477"
      },
      "outputs": [
        {
          "name": "stdout",
          "output_type": "stream",
          "text": [
            "training score:\n",
            "f1: 0.498407900391982\n",
            "validation score:\n",
            "f1: 0.4871779487117949\n",
            "              precision    recall  f1-score   support\n",
            "\n",
            "           0       0.60      0.97      0.74       572\n",
            "           1       0.78      0.14      0.23       427\n",
            "\n",
            "    accuracy                           0.61       999\n",
            "   macro avg       0.69      0.55      0.49       999\n",
            "weighted avg       0.68      0.61      0.52       999\n",
            "\n",
            "test score:\n",
            "f1: 0.5915586001687614\n",
            "              precision    recall  f1-score   support\n",
            "\n",
            "           0       0.64      0.82      0.72      1718\n",
            "           1       0.60      0.37      0.46      1252\n",
            "\n",
            "    accuracy                           0.63      2970\n",
            "   macro avg       0.62      0.60      0.59      2970\n",
            "weighted avg       0.63      0.63      0.61      2970\n",
            "\n"
          ]
        }
      ],
      "source": [
        "print('training score:')\n",
        "print_scores(y_train, train_prediction)\n",
        "print('validation score:')\n",
        "print_scores(y_valid, valid_prediction, report=True)\n",
        "print('test score:')\n",
        "print_scores(y_test, test_prediction, report=True)"
      ]
    },
    {
      "cell_type": "markdown",
      "metadata": {
        "id": "6HdMM9LiZ14G"
      },
      "source": [
        "Let us also look at some examples with their predictions."
      ]
    },
    {
      "cell_type": "code",
      "execution_count": 30,
      "metadata": {
        "id": "52a8ewRoZ1fY"
      },
      "outputs": [
        {
          "name": "stdout",
          "output_type": "stream",
          "text": [
            "@user , you are correct that Reid certainly is a weasel. Sadly, we've got our own weasels; @user Sen McConnell & @user .The corrupt Mueller investigation w/be STOPPED if those 3 did their jobs.#MAGA #KAG #POTUS #Trump #NEWS #VoteRed #NoDACA #USA\n",
            "Predicted label: 0\n",
            "True label: 0\n",
            "\n",
            "Whoever just unfollowed me you a bitch\n",
            "Predicted label: 0\n",
            "True label: 1\n",
            "\n",
            "@user @user Those People Invaded Us!!! They DO NOT BELING HERE & HAVE NO RIGHTS! Its #AmericaFIRST! Open Your House To Them If Your That IGNORANT! & Yes Im A #Christian Too! #NODACA!\n",
            "Predicted label: 0\n",
            "True label: 1\n",
            "\n",
            "stop JUDGING bitches by there cover, jus cuz she bad don't mean she's a catch shawdy could be a whore 👀 das opposite of a keeper\n",
            "Predicted label: 1\n",
            "True label: 1\n",
            "\n",
            "how about i knock heads off and send them gift wrapped to your moms house you dumb raggedy bird bitch ass hoes\n",
            "Predicted label: 1\n",
            "True label: 1\n",
            "\n",
            "@user @user @user Always #NoDACA.I AM BORN IN #USA AND #USA FIRST.\n",
            "Predicted label: 0\n",
            "True label: 0\n",
            "\n",
            "@user friends ? that's my BLOOD brother bitch .. he in yo city !! i'm hours away . ill be through there tomo…\n",
            "Predicted label: 0\n",
            "True label: 0\n",
            "\n",
            "@user @user Muslims attacked US on 9/11, 3000 killed. Subsequently we allowed more Muslims in our country?!?Does this make any sense to you?You can thank Obama, his liberals minions, RINO's & political correctness. #MuslimBan #BanIslam #TravelBan #DrainTheDeepState #DeportThemAll\n",
            "Predicted label: 0\n",
            "True label: 1\n",
            "\n",
            "@user @user Like he ever kept out any threats. He's lying as usual. #BuildThatWall\n",
            "Predicted label: 0\n",
            "True label: 0\n",
            "\n",
            "#germany deserves to called #cuck/land they allow in #isis fighters as #Refugees even if they raped underaged girls. this #yazidi girl is scared of this and she is forced to see the face of her rapist.#refugeesnotwelcome should apply to these scum\n",
            "Predicted label: 0\n",
            "True label: 1\n",
            "\n"
          ]
        }
      ],
      "source": [
        "for i in range(10):\n",
        "    example = tweet_ds['test'][i]\n",
        "    print(example['text'])\n",
        "    print(f'Predicted label: {test_prediction[i]}')\n",
        "    print(f'True label: {y_test[i]}')\n",
        "    print()"
      ]
    },
    {
      "cell_type": "markdown",
      "metadata": {
        "id": "2bdJ8hCqXJpx"
      },
      "source": [
        "<a name='e8'></a>\n",
        "### Exercise 8 (points 5)\n",
        "\n",
        "In this section, discuss the results you obtained. Potentially, try to improve your algorithm based on the results (e.g. do you have many false positives? or false negatives?). Make sure to comment on the trade-offs of such a simplified system."
      ]
    },
    {
      "cell_type": "markdown",
      "metadata": {
        "id": "Ki0sOBPbaQjJ"
      },
      "source": [
        "The test and validation scores of this algorithm seem to be very similar. That is a good sign, as it demonstrates consistency.\n",
        "Initially, I made an error with the if statement initially, which meant that everything was classified as hate-speech. It was interesting that the accuracy rates were higher with that. But this situation was also resulting in a lot of false negatives. The recall rates in the validation set seem to yield odd results. WIth one closing in on 1 and the other to 0. This is not observeed in the test set. \n",
        "\n",
        "With hate-speech sentimental analysis, it is important to realise that that words need to be taken in context. For example, the word 'bitch' can be used in both ways. This might be a direct consequence of use of slang. Furthermore, words are not in their vector form. Which means 'hoe' and 'hoeing' would be treat differently. Also, with the use of Hashtags, the words are often compressed with no use of space. To improve the model, one can also take into account more words that would be indicative of hate-speech. This algorithm takes very limited words which popped up at the top of my head. \n",
        "\n",
        "I searched up some strategies via chatGPT and I came across a ranking system to work with contexts. It might make sense to take negations into account but it is difficult to work with in such a simplistic model. The ranking system would cancel the use of hate words if negation was found in a sentence. This technique would most importantly help us get rid of false positives/negatives. However, if implemented incorrectly, they could turn over the entire model. \n",
        "\n",
        "It is also essential that we take into account with that the bias of the programmer into account. One may consider certain political statements to be hate speech while the other may agree with them. This might make it difficult. This is why we must either work in teams or trust the developer to limit their biases. "
      ]
    },
    {
      "cell_type": "markdown",
      "metadata": {
        "collapsed": false,
        "id": "O685cntcJqQr",
        "pycharm": {
          "name": "#%% md\n"
        }
      },
      "source": [
        "<a name='5'></a>\n",
        "## 5. Build Bag-of-Words\n",
        "\n",
        "Having a vocabulary is important for indexing every word in our corpus.\n",
        "To represent a document as a vector however, we need more than just indexing, such as a vector space that represents the words:\n",
        "\n",
        "* Bag-of-Words model: A single document can be considered as a bag of words and how many times each word occured, without caring about the order of the words. The word occurence counting is also called term frequency. You can think if this as a vector over all of the vocabulary where the entries are how many times that term has occured.\n",
        "\n",
        "* TF-IDF: term frequency–inverse document frequency diminishes the weight of terms that occur very frequently in the document set and increases the weight of terms that occur rarely."
      ]
    },
    {
      "cell_type": "markdown",
      "metadata": {
        "collapsed": false,
        "id": "Mu0gxIhaJqQr",
        "pycharm": {
          "name": "#%% md\n"
        }
      },
      "source": [
        "<a name='e9'></a>\n",
        "### Exercise 9 (points 5)\n",
        "\n",
        "Let us build the bag-of-words for the whole dataset. We will only include the words that are present in our vocabulary that we created in the previous section. Words that are missing from the vocabulary will be replaced with the <unknown> token. For training we need to convert the counter into a numpy array [https://numpy.org/doc/stable/reference/generated/numpy.array.html](https://numpy.org/doc/stable/reference/generated/numpy.array.html). The array will be of the size of the vocabulary (plus 1 for the <unknown> token). Each element will correspond to the word in our vocabulary and contain the number of occurrences of this word in a particular sentence. Fill in the following function."
      ]
    },
    {
      "cell_type": "code",
      "execution_count": 31,
      "metadata": {
        "id": "wsRwR-pKJqQr",
        "pycharm": {
          "name": "#%%\n"
        }
      },
      "outputs": [],
      "source": [
        "def calculate_bag_of_words(example):\n",
        "    \"\"\"\n",
        "    Calculates the word count and encodes it as a numpy array of the size equal to the vocab\n",
        "    Args:\n",
        "        example: an example from the Dataset\n",
        "\n",
        "    Returns: updated example with 'bow' column\n",
        "\n",
        "    \"\"\"\n",
        "    text = example['clean']\n",
        "    bow = get_bag_of_words(text)\n",
        "    # create numpy array with the size of the vocab plus 1 for the unknown token\n",
        "    bow_numpy = np.zeros((vocab_size + 1), dtype=int)\n",
        "\n",
        "    ### YOUR CODE HERE\n",
        "\n",
        "    for word, count in bow.items():\n",
        "        if word in vocab:\n",
        "            bow_numpy[vocab.index(word)] = count\n",
        "        else:\n",
        "            bow_numpy[vocab_size] += count\n",
        "\n",
        "    ### YOUR CODE ENDS HERE\n",
        "    example['bow'] = bow_numpy\n",
        "    return example"
      ]
    },
    {
      "cell_type": "code",
      "execution_count": 32,
      "metadata": {
        "id": "3_eN_JHcJqQr",
        "pycharm": {
          "name": "#%%\n"
        }
      },
      "outputs": [
        {
          "name": "stdout",
          "output_type": "stream",
          "text": [
            "{'text': '@user nice new signage. Are you not concerned by Beatlemania -style hysterical crowds crongregating on you…', 'label': 0, 'clean': 'nice new signage are you not concerned by beatlemania style hysterical crowds crongregating on you', 'bow': array([0, 0, 0, ..., 0, 0, 4])}\n"
          ]
        }
      ],
      "source": [
        "print(calculate_bag_of_words(tweet_ds['train'][0]))"
      ]
    },
    {
      "cell_type": "code",
      "execution_count": 33,
      "metadata": {
        "id": "Ldq19LLiJqQr",
        "pycharm": {
          "name": "#%%\n"
        }
      },
      "outputs": [
        {
          "name": "stdout",
          "output_type": "stream",
          "text": [
            "DatasetDict({\n",
            "    train: Dataset({\n",
            "        features: ['text', 'label', 'clean', 'bow'],\n",
            "        num_rows: 8993\n",
            "    })\n",
            "    test: Dataset({\n",
            "        features: ['text', 'label', 'clean', 'bow'],\n",
            "        num_rows: 2970\n",
            "    })\n",
            "    validation: Dataset({\n",
            "        features: ['text', 'label', 'clean', 'bow'],\n",
            "        num_rows: 999\n",
            "    })\n",
            "})\n"
          ]
        }
      ],
      "source": [
        "tweet_ds = tweet_ds.map(calculate_bag_of_words)\n",
        "\n",
        "print(tweet_ds)"
      ]
    },
    {
      "cell_type": "markdown",
      "metadata": {
        "collapsed": false,
        "id": "PXRJV4B8JqQs",
        "pycharm": {
          "name": "#%% md\n"
        }
      },
      "source": [
        "<a name='6'></a>\n",
        "## 6. Bag-of-Words with Naive Bayes\n",
        "\n",
        "Our first classification algorithm will be the Naive-Bayes algorithm. Naive Bayes is a generative classification algorithm: the model assigns class labels to the input text, which is represented as a vectors of feature values (this will be our bag-of-words).\n",
        "\n",
        "If you need a refresher on the method, please revisit the lecture slides."
      ]
    },
    {
      "cell_type": "markdown",
      "metadata": {
        "id": "C5K7JlqjpvTV"
      },
      "source": [
        "We can start by extracting the features and labels from our dataset. We will use it to train the classifier (on 'train' subset) and evaluate it after training (on 'valid' and 'test' subsets).\n",
        "\n",
        "The dataset will return the features as numpy arrays. We can inspect their shapes."
      ]
    },
    {
      "cell_type": "code",
      "execution_count": 34,
      "metadata": {
        "id": "Gw1DedUPJqQr",
        "pycharm": {
          "name": "#%%\n"
        }
      },
      "outputs": [
        {
          "name": "stdout",
          "output_type": "stream",
          "text": [
            "(8993, 4007)\n",
            "(8993,)\n",
            "(999, 4007)\n",
            "(999,)\n",
            "(2970, 4007)\n",
            "(2970,)\n"
          ]
        }
      ],
      "source": [
        "X_train = tweet_ds['train']['bow']\n",
        "y_train = tweet_ds['train']['label']\n",
        "\n",
        "print(X_train.shape)\n",
        "print(y_train.shape)\n",
        "\n",
        "X_valid = tweet_ds['validation']['bow']\n",
        "y_valid = tweet_ds['validation']['label']\n",
        "\n",
        "print(X_valid.shape)\n",
        "print(y_valid.shape)\n",
        "\n",
        "X_test = tweet_ds['test']['bow']\n",
        "y_test = tweet_ds['test']['label']\n",
        "\n",
        "print(X_test.shape)\n",
        "print(y_test.shape)"
      ]
    },
    {
      "cell_type": "markdown",
      "metadata": {
        "id": "-PbyEjcSp706"
      },
      "source": [
        "The scikit-learn library also contains the implementation of Naive Bayes. You will use it in the next exercise. Here is the documentation [https://scikit-learn.org/stable/modules/naive_bayes.html](https://scikit-learn.org/stable/modules/naive_bayes.html). The model is trained by calling the ```fit()``` method. It receives the features of the training examples and their labels. Depending on your machine, the training might take from several seconds to up to a minute or two."
      ]
    },
    {
      "cell_type": "code",
      "execution_count": 35,
      "metadata": {
        "id": "VaNamSHYJqQt",
        "pycharm": {
          "name": "#%%\n"
        }
      },
      "outputs": [
        {
          "data": {
            "text/html": [
              "<style>#sk-container-id-1 {color: black;}#sk-container-id-1 pre{padding: 0;}#sk-container-id-1 div.sk-toggleable {background-color: white;}#sk-container-id-1 label.sk-toggleable__label {cursor: pointer;display: block;width: 100%;margin-bottom: 0;padding: 0.3em;box-sizing: border-box;text-align: center;}#sk-container-id-1 label.sk-toggleable__label-arrow:before {content: \"▸\";float: left;margin-right: 0.25em;color: #696969;}#sk-container-id-1 label.sk-toggleable__label-arrow:hover:before {color: black;}#sk-container-id-1 div.sk-estimator:hover label.sk-toggleable__label-arrow:before {color: black;}#sk-container-id-1 div.sk-toggleable__content {max-height: 0;max-width: 0;overflow: hidden;text-align: left;background-color: #f0f8ff;}#sk-container-id-1 div.sk-toggleable__content pre {margin: 0.2em;color: black;border-radius: 0.25em;background-color: #f0f8ff;}#sk-container-id-1 input.sk-toggleable__control:checked~div.sk-toggleable__content {max-height: 200px;max-width: 100%;overflow: auto;}#sk-container-id-1 input.sk-toggleable__control:checked~label.sk-toggleable__label-arrow:before {content: \"▾\";}#sk-container-id-1 div.sk-estimator input.sk-toggleable__control:checked~label.sk-toggleable__label {background-color: #d4ebff;}#sk-container-id-1 div.sk-label input.sk-toggleable__control:checked~label.sk-toggleable__label {background-color: #d4ebff;}#sk-container-id-1 input.sk-hidden--visually {border: 0;clip: rect(1px 1px 1px 1px);clip: rect(1px, 1px, 1px, 1px);height: 1px;margin: -1px;overflow: hidden;padding: 0;position: absolute;width: 1px;}#sk-container-id-1 div.sk-estimator {font-family: monospace;background-color: #f0f8ff;border: 1px dotted black;border-radius: 0.25em;box-sizing: border-box;margin-bottom: 0.5em;}#sk-container-id-1 div.sk-estimator:hover {background-color: #d4ebff;}#sk-container-id-1 div.sk-parallel-item::after {content: \"\";width: 100%;border-bottom: 1px solid gray;flex-grow: 1;}#sk-container-id-1 div.sk-label:hover label.sk-toggleable__label {background-color: #d4ebff;}#sk-container-id-1 div.sk-serial::before {content: \"\";position: absolute;border-left: 1px solid gray;box-sizing: border-box;top: 0;bottom: 0;left: 50%;z-index: 0;}#sk-container-id-1 div.sk-serial {display: flex;flex-direction: column;align-items: center;background-color: white;padding-right: 0.2em;padding-left: 0.2em;position: relative;}#sk-container-id-1 div.sk-item {position: relative;z-index: 1;}#sk-container-id-1 div.sk-parallel {display: flex;align-items: stretch;justify-content: center;background-color: white;position: relative;}#sk-container-id-1 div.sk-item::before, #sk-container-id-1 div.sk-parallel-item::before {content: \"\";position: absolute;border-left: 1px solid gray;box-sizing: border-box;top: 0;bottom: 0;left: 50%;z-index: -1;}#sk-container-id-1 div.sk-parallel-item {display: flex;flex-direction: column;z-index: 1;position: relative;background-color: white;}#sk-container-id-1 div.sk-parallel-item:first-child::after {align-self: flex-end;width: 50%;}#sk-container-id-1 div.sk-parallel-item:last-child::after {align-self: flex-start;width: 50%;}#sk-container-id-1 div.sk-parallel-item:only-child::after {width: 0;}#sk-container-id-1 div.sk-dashed-wrapped {border: 1px dashed gray;margin: 0 0.4em 0.5em 0.4em;box-sizing: border-box;padding-bottom: 0.4em;background-color: white;}#sk-container-id-1 div.sk-label label {font-family: monospace;font-weight: bold;display: inline-block;line-height: 1.2em;}#sk-container-id-1 div.sk-label-container {text-align: center;}#sk-container-id-1 div.sk-container {/* jupyter's `normalize.less` sets `[hidden] { display: none; }` but bootstrap.min.css set `[hidden] { display: none !important; }` so we also need the `!important` here to be able to override the default hidden behavior on the sphinx rendered scikit-learn.org. See: https://github.com/scikit-learn/scikit-learn/issues/21755 */display: inline-block !important;position: relative;}#sk-container-id-1 div.sk-text-repr-fallback {display: none;}</style><div id=\"sk-container-id-1\" class=\"sk-top-container\"><div class=\"sk-text-repr-fallback\"><pre>GaussianNB()</pre><b>In a Jupyter environment, please rerun this cell to show the HTML representation or trust the notebook. <br />On GitHub, the HTML representation is unable to render, please try loading this page with nbviewer.org.</b></div><div class=\"sk-container\" hidden><div class=\"sk-item\"><div class=\"sk-estimator sk-toggleable\"><input class=\"sk-toggleable__control sk-hidden--visually\" id=\"sk-estimator-id-1\" type=\"checkbox\" checked><label for=\"sk-estimator-id-1\" class=\"sk-toggleable__label sk-toggleable__label-arrow\">GaussianNB</label><div class=\"sk-toggleable__content\"><pre>GaussianNB()</pre></div></div></div></div></div>"
            ],
            "text/plain": [
              "GaussianNB()"
            ]
          },
          "execution_count": 35,
          "metadata": {},
          "output_type": "execute_result"
        }
      ],
      "source": [
        "from sklearn.naive_bayes import GaussianNB\n",
        "\n",
        "nb_classifier = GaussianNB()\n",
        "nb_classifier.fit(X_train, y_train)"
      ]
    },
    {
      "cell_type": "markdown",
      "metadata": {
        "id": "vBHHQrwhOy9l"
      },
      "source": [
        "We can use the trained classifier to make predictions. The method ```predict()``` will output the predictions made by the model. We can score them and print the results."
      ]
    },
    {
      "cell_type": "code",
      "execution_count": 36,
      "metadata": {
        "id": "GBs-atNhJqQt",
        "pycharm": {
          "name": "#%%\n"
        }
      },
      "outputs": [
        {
          "name": "stdout",
          "output_type": "stream",
          "text": [
            "training score:\n",
            "f1: 0.635906392733487\n",
            "validation score:\n",
            "f1: 0.5577441077441078\n",
            "              precision    recall  f1-score   support\n",
            "\n",
            "           0       0.81      0.34      0.47       572\n",
            "           1       0.50      0.89      0.64       427\n",
            "\n",
            "    accuracy                           0.57       999\n",
            "   macro avg       0.65      0.61      0.56       999\n",
            "weighted avg       0.68      0.57      0.55       999\n",
            "\n"
          ]
        }
      ],
      "source": [
        "nb_train_prediction = nb_classifier.predict(X_train)\n",
        "nb_valid_prediction = nb_classifier.predict(X_valid)\n",
        "\n",
        "print('training score:')\n",
        "print_scores(y_train, nb_train_prediction)\n",
        "print('validation score:')\n",
        "print_scores(y_valid, nb_valid_prediction, report=True)"
      ]
    },
    {
      "cell_type": "markdown",
      "metadata": {
        "id": "w4xSxoIfpdAC"
      },
      "source": [
        "Let's do the same for the test subset."
      ]
    },
    {
      "cell_type": "code",
      "execution_count": 37,
      "metadata": {
        "id": "63snGggAJqQt",
        "pycharm": {
          "name": "#%%\n"
        }
      },
      "outputs": [
        {
          "name": "stdout",
          "output_type": "stream",
          "text": [
            "training score:\n",
            "f1: 0.635906392733487\n",
            "validation score:\n",
            "f1: 0.5577441077441078\n",
            "test score:\n",
            "f1: 0.40357458669876023\n",
            "              precision    recall  f1-score   support\n",
            "\n",
            "           0       0.72      0.12      0.21      1718\n",
            "           1       0.44      0.93      0.59      1252\n",
            "\n",
            "    accuracy                           0.46      2970\n",
            "   macro avg       0.58      0.53      0.40      2970\n",
            "weighted avg       0.60      0.46      0.37      2970\n",
            "\n"
          ]
        }
      ],
      "source": [
        "nb_test_prediction = nb_classifier.predict(X_test)\n",
        "print('training score:')\n",
        "print_scores(y_train, nb_train_prediction)\n",
        "print('validation score:')\n",
        "print_scores(y_valid, nb_valid_prediction)\n",
        "print('test score:')\n",
        "print_scores(y_test, nb_test_prediction, report=True)"
      ]
    },
    {
      "cell_type": "markdown",
      "metadata": {
        "collapsed": false,
        "id": "p3Esqe7rJqQt",
        "pycharm": {
          "name": "#%% md\n"
        }
      },
      "source": [
        "<a name='e10'></a>\n",
        "### Exercise 10 (points 10)\n",
        "\n",
        "Analyze and comment on the results. Compare to the previous results. Do you see anything unexpected? Provide explanations if so."
      ]
    },
    {
      "cell_type": "markdown",
      "metadata": {
        "id": "Qy2whYbSqab6"
      },
      "source": [
        "- **Overfitting**: The model performs well on the training data but poorly on unseen validation and test data, indicating it is overfitting. It is possible that the model is reliant on the few words that have been picked upon for hate speeech. A lot of words that were not used may have resulted in the inaccurate classifation. \n",
        "- **Bias Towards Predicting Hate Speech**: What is unexpected is how the model exhibits good recall but low precision for detecting hate speech. It successfully identifies most hate speech but also mislabels a lot of non-hate speech as hatee speech (low precision) - this can be a contextual issue that has been mentioned in Q8. Words surrounding the 'hate speech' need to be taken into consideration to be able to remove this bsia. This is particularly problematic as it could lead to over-censorship in real life situations.\n",
        "- **Poor Detection of Non-Hate Speech**: The very low recall for non-hate speech in the test dataset indicates that the model frequently misses identifying non-hate speech correctly, mistaking it for hate speech. slang is another factor that mucst be taken into consideration. The majority of users on twitter tend to be younger. So slang constantly eveolves and words may not represent their dictionary meanings. While this was not 'unexpected', this is something that was not taken into consideration initally.\n",
        "- **Optimize Training Approach**: Apply regularization techniques to reduce overfitting and ensure the model generalizes well across different datasets. Simplifying the model might also help in improving generalizability. We could do a cost analysis to determine the weights or impacts of false positives/negatics. With sentiments being taken into account, it is importantt to note that incorrect analysis could change tides and cause even riots.\n"
      ]
    },
    {
      "cell_type": "markdown",
      "metadata": {
        "collapsed": false,
        "id": "7gS-N5paJqQr",
        "pycharm": {
          "name": "#%% md\n"
        }
      },
      "source": [
        "<a name='7'></a>\n",
        "## 7. Bag-of-Words with Logistic Regression\n"
      ]
    },
    {
      "cell_type": "markdown",
      "metadata": {
        "id": "N_Phlb4uNuFH"
      },
      "source": [
        "In this section, we will apply a different classification algorithm, namely Logistic Regression. If you need a refresher about Logistic Regression, make sure to revisit the lecture slides.\n"
      ]
    },
    {
      "cell_type": "markdown",
      "metadata": {
        "id": "FWtMVF8OODxb"
      },
      "source": [
        "You can check the documentation of the LogisticRegression here [https://scikit-learn.org/stable/modules/generated/sklearn.linear_model.LogisticRegression.html](https://scikit-learn.org/stable/modules/generated/sklearn.linear_model.LogisticRegression.html). The model is trained by calling the ```fit()``` method. It receives the features of the training examples and their labels. Depending on your machine, the training might take from several seconds to up to a minute or two."
      ]
    },
    {
      "cell_type": "markdown",
      "metadata": {
        "collapsed": false,
        "id": "in-_9XlTJqQs",
        "pycharm": {
          "name": "#%% md\n"
        }
      },
      "source": [
        "<a name='e11'></a>\n",
        "### Exercise 11 (points 3)\n",
        "\n",
        "Train Logistic Regression on the bag-of-words features.\n",
        "First, instantiate the classifier (visit the documentation to find the parameters of the constructor [https://scikit-learn.org/stable/modules/generated/sklearn.linear_model.LogisticRegression.html](https://scikit-learn.org/stable/modules/generated/sklearn.linear_model.LogisticRegression.html)). Next, train the classifier on the training data (```X_train``` and ```y_train```)."
      ]
    },
    {
      "cell_type": "code",
      "execution_count": 38,
      "metadata": {
        "id": "-AeED0K0JqQs",
        "pycharm": {
          "name": "#%%\n"
        }
      },
      "outputs": [
        {
          "name": "stderr",
          "output_type": "stream",
          "text": [
            "/Users/wiksrivastava/anaconda3/lib/python3.11/site-packages/sklearn/linear_model/_logistic.py:460: ConvergenceWarning: lbfgs failed to converge (status=1):\n",
            "STOP: TOTAL NO. of ITERATIONS REACHED LIMIT.\n",
            "\n",
            "Increase the number of iterations (max_iter) or scale the data as shown in:\n",
            "    https://scikit-learn.org/stable/modules/preprocessing.html\n",
            "Please also refer to the documentation for alternative solver options:\n",
            "    https://scikit-learn.org/stable/modules/linear_model.html#logistic-regression\n",
            "  n_iter_i = _check_optimize_result(\n"
          ]
        },
        {
          "data": {
            "text/html": [
              "<style>#sk-container-id-2 {color: black;}#sk-container-id-2 pre{padding: 0;}#sk-container-id-2 div.sk-toggleable {background-color: white;}#sk-container-id-2 label.sk-toggleable__label {cursor: pointer;display: block;width: 100%;margin-bottom: 0;padding: 0.3em;box-sizing: border-box;text-align: center;}#sk-container-id-2 label.sk-toggleable__label-arrow:before {content: \"▸\";float: left;margin-right: 0.25em;color: #696969;}#sk-container-id-2 label.sk-toggleable__label-arrow:hover:before {color: black;}#sk-container-id-2 div.sk-estimator:hover label.sk-toggleable__label-arrow:before {color: black;}#sk-container-id-2 div.sk-toggleable__content {max-height: 0;max-width: 0;overflow: hidden;text-align: left;background-color: #f0f8ff;}#sk-container-id-2 div.sk-toggleable__content pre {margin: 0.2em;color: black;border-radius: 0.25em;background-color: #f0f8ff;}#sk-container-id-2 input.sk-toggleable__control:checked~div.sk-toggleable__content {max-height: 200px;max-width: 100%;overflow: auto;}#sk-container-id-2 input.sk-toggleable__control:checked~label.sk-toggleable__label-arrow:before {content: \"▾\";}#sk-container-id-2 div.sk-estimator input.sk-toggleable__control:checked~label.sk-toggleable__label {background-color: #d4ebff;}#sk-container-id-2 div.sk-label input.sk-toggleable__control:checked~label.sk-toggleable__label {background-color: #d4ebff;}#sk-container-id-2 input.sk-hidden--visually {border: 0;clip: rect(1px 1px 1px 1px);clip: rect(1px, 1px, 1px, 1px);height: 1px;margin: -1px;overflow: hidden;padding: 0;position: absolute;width: 1px;}#sk-container-id-2 div.sk-estimator {font-family: monospace;background-color: #f0f8ff;border: 1px dotted black;border-radius: 0.25em;box-sizing: border-box;margin-bottom: 0.5em;}#sk-container-id-2 div.sk-estimator:hover {background-color: #d4ebff;}#sk-container-id-2 div.sk-parallel-item::after {content: \"\";width: 100%;border-bottom: 1px solid gray;flex-grow: 1;}#sk-container-id-2 div.sk-label:hover label.sk-toggleable__label {background-color: #d4ebff;}#sk-container-id-2 div.sk-serial::before {content: \"\";position: absolute;border-left: 1px solid gray;box-sizing: border-box;top: 0;bottom: 0;left: 50%;z-index: 0;}#sk-container-id-2 div.sk-serial {display: flex;flex-direction: column;align-items: center;background-color: white;padding-right: 0.2em;padding-left: 0.2em;position: relative;}#sk-container-id-2 div.sk-item {position: relative;z-index: 1;}#sk-container-id-2 div.sk-parallel {display: flex;align-items: stretch;justify-content: center;background-color: white;position: relative;}#sk-container-id-2 div.sk-item::before, #sk-container-id-2 div.sk-parallel-item::before {content: \"\";position: absolute;border-left: 1px solid gray;box-sizing: border-box;top: 0;bottom: 0;left: 50%;z-index: -1;}#sk-container-id-2 div.sk-parallel-item {display: flex;flex-direction: column;z-index: 1;position: relative;background-color: white;}#sk-container-id-2 div.sk-parallel-item:first-child::after {align-self: flex-end;width: 50%;}#sk-container-id-2 div.sk-parallel-item:last-child::after {align-self: flex-start;width: 50%;}#sk-container-id-2 div.sk-parallel-item:only-child::after {width: 0;}#sk-container-id-2 div.sk-dashed-wrapped {border: 1px dashed gray;margin: 0 0.4em 0.5em 0.4em;box-sizing: border-box;padding-bottom: 0.4em;background-color: white;}#sk-container-id-2 div.sk-label label {font-family: monospace;font-weight: bold;display: inline-block;line-height: 1.2em;}#sk-container-id-2 div.sk-label-container {text-align: center;}#sk-container-id-2 div.sk-container {/* jupyter's `normalize.less` sets `[hidden] { display: none; }` but bootstrap.min.css set `[hidden] { display: none !important; }` so we also need the `!important` here to be able to override the default hidden behavior on the sphinx rendered scikit-learn.org. See: https://github.com/scikit-learn/scikit-learn/issues/21755 */display: inline-block !important;position: relative;}#sk-container-id-2 div.sk-text-repr-fallback {display: none;}</style><div id=\"sk-container-id-2\" class=\"sk-top-container\"><div class=\"sk-text-repr-fallback\"><pre>LogisticRegression()</pre><b>In a Jupyter environment, please rerun this cell to show the HTML representation or trust the notebook. <br />On GitHub, the HTML representation is unable to render, please try loading this page with nbviewer.org.</b></div><div class=\"sk-container\" hidden><div class=\"sk-item\"><div class=\"sk-estimator sk-toggleable\"><input class=\"sk-toggleable__control sk-hidden--visually\" id=\"sk-estimator-id-2\" type=\"checkbox\" checked><label for=\"sk-estimator-id-2\" class=\"sk-toggleable__label sk-toggleable__label-arrow\">LogisticRegression</label><div class=\"sk-toggleable__content\"><pre>LogisticRegression()</pre></div></div></div></div></div>"
            ],
            "text/plain": [
              "LogisticRegression()"
            ]
          },
          "execution_count": 38,
          "metadata": {},
          "output_type": "execute_result"
        }
      ],
      "source": [
        "from sklearn.linear_model import LogisticRegression\n",
        "\n",
        "lr_classifier = LogisticRegression()\n",
        "\n",
        "lr_classifier.fit(X_train, y_train)\n",
        "\n",
        "#! why is the X capitalised and y not?? That made me lose some time haha....\n",
        "\n",
        "\n",
        "### YOUR CODE ENDS HERE"
      ]
    },
    {
      "cell_type": "markdown",
      "metadata": {
        "id": "fvD7nlBdQefX"
      },
      "source": [
        "Now, let's see how the model is performing."
      ]
    },
    {
      "cell_type": "code",
      "execution_count": 39,
      "metadata": {
        "id": "nxak5F5QJqQs",
        "pycharm": {
          "name": "#%%\n"
        }
      },
      "outputs": [
        {
          "name": "stdout",
          "output_type": "stream",
          "text": [
            "training score:\n",
            "f1: 0.8731330918164347\n",
            "validation score:\n",
            "f1: 0.672989011964887\n",
            "              precision    recall  f1-score   support\n",
            "\n",
            "           0       0.71      0.75      0.73       572\n",
            "           1       0.64      0.60      0.62       427\n",
            "\n",
            "    accuracy                           0.68       999\n",
            "   macro avg       0.68      0.67      0.67       999\n",
            "weighted avg       0.68      0.68      0.68       999\n",
            "\n"
          ]
        }
      ],
      "source": [
        "train_prediction = lr_classifier.predict(X_train)\n",
        "valid_prediction = lr_classifier.predict(X_valid)\n",
        "\n",
        "print('training score:')\n",
        "print_scores(y_train, train_prediction)\n",
        "print('validation score:')\n",
        "print_scores(y_valid, valid_prediction, report=True)"
      ]
    },
    {
      "cell_type": "markdown",
      "metadata": {
        "id": "rAhZA3gEPRBk"
      },
      "source": [
        "Let's do the same for the test subset."
      ]
    },
    {
      "cell_type": "code",
      "execution_count": 40,
      "metadata": {
        "id": "F1JKt2YNJqQs",
        "pycharm": {
          "name": "#%%\n"
        }
      },
      "outputs": [
        {
          "name": "stdout",
          "output_type": "stream",
          "text": [
            "training score:\n",
            "f1: 0.8731330918164347\n",
            "validation score:\n",
            "f1: 0.672989011964887\n",
            "test score:\n",
            "f1: 0.5871132377711603\n",
            "              precision    recall  f1-score   support\n",
            "\n",
            "           0       0.77      0.42      0.54      1718\n",
            "           1       0.51      0.83      0.63      1252\n",
            "\n",
            "    accuracy                           0.59      2970\n",
            "   macro avg       0.64      0.62      0.59      2970\n",
            "weighted avg       0.66      0.59      0.58      2970\n",
            "\n"
          ]
        }
      ],
      "source": [
        "test_prediction = lr_classifier.predict(X_test)\n",
        "\n",
        "print('training score:')\n",
        "print_scores(y_train, train_prediction)\n",
        "print('validation score:')\n",
        "print_scores(y_valid, valid_prediction)\n",
        "print('test score:')\n",
        "print_scores(y_test, test_prediction, report=True)"
      ]
    },
    {
      "cell_type": "code",
      "execution_count": 41,
      "metadata": {
        "id": "8v-bU9tbsxu3"
      },
      "outputs": [
        {
          "name": "stdout",
          "output_type": "stream",
          "text": [
            "(2970,)\n"
          ]
        }
      ],
      "source": [
        "print(test_prediction.shape)"
      ]
    },
    {
      "cell_type": "markdown",
      "metadata": {
        "id": "cxwawpz8Paia"
      },
      "source": [
        "You can also inspect the predictions."
      ]
    },
    {
      "cell_type": "code",
      "execution_count": 42,
      "metadata": {
        "id": "-4WAKgEUJqQs",
        "pycharm": {
          "name": "#%%\n"
        }
      },
      "outputs": [
        {
          "name": "stdout",
          "output_type": "stream",
          "text": [
            "@user , you are correct that Reid certainly is a weasel. Sadly, we've got our own weasels; @user Sen McConnell & @user .The corrupt Mueller investigation w/be STOPPED if those 3 did their jobs.#MAGA #KAG #POTUS #Trump #NEWS #VoteRed #NoDACA #USA\n",
            "Predicted label: 1\n",
            "True label: 0\n",
            "\n",
            "Whoever just unfollowed me you a bitch\n",
            "Predicted label: 0\n",
            "True label: 1\n",
            "\n",
            "@user @user Those People Invaded Us!!! They DO NOT BELING HERE & HAVE NO RIGHTS! Its #AmericaFIRST! Open Your House To Them If Your That IGNORANT! & Yes Im A #Christian Too! #NODACA!\n",
            "Predicted label: 1\n",
            "True label: 1\n",
            "\n",
            "stop JUDGING bitches by there cover, jus cuz she bad don't mean she's a catch shawdy could be a whore 👀 das opposite of a keeper\n",
            "Predicted label: 1\n",
            "True label: 1\n",
            "\n",
            "how about i knock heads off and send them gift wrapped to your moms house you dumb raggedy bird bitch ass hoes\n",
            "Predicted label: 1\n",
            "True label: 1\n",
            "\n",
            "@user @user @user Always #NoDACA.I AM BORN IN #USA AND #USA FIRST.\n",
            "Predicted label: 0\n",
            "True label: 0\n",
            "\n",
            "@user friends ? that's my BLOOD brother bitch .. he in yo city !! i'm hours away . ill be through there tomo…\n",
            "Predicted label: 0\n",
            "True label: 0\n",
            "\n",
            "@user @user Muslims attacked US on 9/11, 3000 killed. Subsequently we allowed more Muslims in our country?!?Does this make any sense to you?You can thank Obama, his liberals minions, RINO's & political correctness. #MuslimBan #BanIslam #TravelBan #DrainTheDeepState #DeportThemAll\n",
            "Predicted label: 0\n",
            "True label: 1\n",
            "\n",
            "@user @user Like he ever kept out any threats. He's lying as usual. #BuildThatWall\n",
            "Predicted label: 0\n",
            "True label: 0\n",
            "\n",
            "#germany deserves to called #cuck/land they allow in #isis fighters as #Refugees even if they raped underaged girls. this #yazidi girl is scared of this and she is forced to see the face of her rapist.#refugeesnotwelcome should apply to these scum\n",
            "Predicted label: 1\n",
            "True label: 1\n",
            "\n"
          ]
        }
      ],
      "source": [
        "for i in range(10):\n",
        "    example = tweet_ds['test'][i]\n",
        "    print(example['text'])\n",
        "    print(f'Predicted label: {test_prediction[i]}')\n",
        "    print(f'True label: {y_test[i]}')\n",
        "    print()"
      ]
    },
    {
      "cell_type": "markdown",
      "metadata": {
        "collapsed": false,
        "id": "lBG9KQzjJqQs",
        "pycharm": {
          "name": "#%% md\n"
        }
      },
      "source": [
        "<a name='e12'></a>\n",
        "### Exercise 12 (points 10)\n",
        "\n",
        "Analyze and comment on the results. Do you see anything unexpected? Give explanations.\n",
        "\n",
        "Analyze at least 10 errors from the results (could be either false positives or negatives) and try to explain why they occured (e.g. was it because of some linguistic phenomenon that cannot be captured by the models, was it because of bad annotation etc.)"
      ]
    },
    {
      "cell_type": "markdown",
      "metadata": {
        "id": "AmLbQfC9qcOV"
      },
      "source": [
        "**For the assignment, I will be assuming a false positive to be non-hate speech being detected as hate speech and hate-speech being detected as non-hate speech to be false negatives.**\n",
        "\n",
        "1. @user , you are correct that Reid certainly is a weasel. Sadly, we've got our own weasels; @user Sen McConnell & @user .The corrupt Mueller investigation w/be STOPPED if those 3 did their jobs.#MAGA #KAG #POTUS #Trump #NEWS #VoteRed #NoDACA #USA\n",
        "Predicted label: 1\n",
        "True label: 0\n",
        "\n",
        "**False positive** - This may have been calsiifeied as hate speech since similar terms and hashtags would often be calssified as hate-speech with the model that has been developed. This similarity causes ambiguity, where a logistic regession model would classify the likelihood to be higher for hate-speech than not for this tweet.\n",
        "\n",
        "2. Whoever just unfollowed me you a bitch\n",
        "Predicted label: 0\n",
        "True label: 1\n",
        "\n",
        "**False negative** - This classification is difficult. The text in itself is not directed towards a known entity. That makes hate speech detection difficult. It would be possible to get a better idea if the history of the user was taken into account but that would be time and energy intenseive.\n",
        "\n",
        "3. Too many immigrants unlicensed to kill #IllegalAliens #IllegalImmigration#Transportation #BuildThatWall @user @user\n",
        "Predicted label: 0\n",
        "True label: 1\n",
        "\n",
        "**False negative** None of the words that were used in the initial classifier have been used in this tweet. Furthermore, a lot of words that may otherwise help with the ininital classifier are hashtagged. These are not read the same way, making it difficult for the model to make correct judgements.\n",
        "\n",
        "4. a whole BOX of oreos bitch\n",
        "Predicted label: 1\n",
        "True label: 0\n",
        "\n",
        "**False positive** - This may have been calsiifeied as hate speech since the term 'bitch' would often be calssified as hate-speech with the model that has been developed. Words like these often cause confusions as slangs alter the meanings of such words. This model does not understand how slangs are used. \n",
        "\n",
        "5. @ the family that called me a cunt and a Bitch for their chip not working on their card 👍\n",
        "Predicted label: 1\n",
        "True label: 0\n",
        "\n",
        "**False positive** - This may have been calsiifeied as hate speech since the term 'bitch' would often be calssified as hate-speech with the model that has been developed. Words like these often cause confusions as slangs alter the meanings of such words. This model does not understand how slangs are used. \n",
        "\n",
        "6. Same shoes everyday but bitch I'm still swaggin' @user\n",
        "Predicted label: 1\n",
        "True label: 0\n",
        "\n",
        "**False positive** - This may have been calsiifeied as hate speech since the term 'bitch' would often be calssified as hate-speech with the model that has been developed. Words like these often cause confusions as slangs alter the meanings of such words. This model does not understand how slangs are used. \n",
        "\n",
        "7. \"Please don't call it \"\"rescue\"\" - it's human trafficking #portsclosed #sendthemback #benefitseekers\"\n",
        "Predicted label: 0\n",
        "True label: 1\n",
        "\n",
        "**False negative** None of the words that were used in the initial classifier have been used in this tweet. Furthermore, a lot of words that may otherwise help with the ininital classifier are hashtagged. These are not read the same way, making it difficult for the model to make correct judgements.\n",
        "\n",
        "8. @user @user That's what happens when you let in a bunch of savages from Africa riddled with diseases!!! #CloseTheBorders #SendThemBack\n",
        "Predicted label: 0\n",
        "True label: 1\n",
        "\n",
        "**False negative** None of the words that were used in the initial classifier have been used in this tweet. Furthermore, a lot of words that may otherwise help with the ininital classifier are hashtagged. These are not read the same way, making it difficult for the model to make correct judgements.\n",
        "\n",
        "9. @user BITCH DONT TEST ME\n",
        "Predicted label: 1\n",
        "True label: 0\n",
        "\n",
        "**False positive** - This may have been calsiifeied as hate speech since the term 'bitch' would often be calssified as hate-speech with the model that has been developed. Words like these often cause confusions as slangs alter the meanings of such words. This model does not understand how slangs are used. However, this could actually be hate speech. This is another situation where the historical twwets of the user would play a role in determining the reality. \n",
        "\n",
        "10. @user @user Muslims attacked US on 9/11, 3000 killed. Subsequently we allowed more Muslims in our country?!?Does this make any sense to you?You can thank Obama, his liberals minions, RINO's & political correctness. #MuslimBan #BanIslam #TravelBan #DrainTheDeepState #DeportThemAll\n",
        "Predicted label: 0\n",
        "True label: 1\n",
        "\n",
        "**False negative** None of the words that were used in the initial classifier have been used in this tweet. Furthermore, a lot of words that may otherwise help with the ininital classifier are hashtagged. These are not read the same way, making it difficult for the model to make correct judgements.\n",
        "\n",
        "\n",
        "\n"
      ]
    },
    {
      "cell_type": "markdown",
      "metadata": {
        "collapsed": false,
        "id": "KHtLxw-dJqQt",
        "pycharm": {
          "name": "#%% md\n"
        }
      },
      "source": [
        "<a name='8'></a>\n",
        "## 8. TF-IDF\n",
        "Comment on the above results and try to propose/come up with some improvements. Explore the possibilities of the bag-of-words and different variations (e.g. TF-IDF). Make sure that you comment on your results."
      ]
    },
    {
      "cell_type": "markdown",
      "metadata": {
        "collapsed": false,
        "id": "0o6QA5C6JqQt",
        "pycharm": {
          "name": "#%% md\n"
        }
      },
      "source": [
        "<a name='e13'></a>\n",
        "### Exercise 13 (points 5)\n",
        "\n",
        "Extract TF-IDF (or other, your choice) features for the dataset."
      ]
    },
    {
      "cell_type": "code",
      "execution_count": 43,
      "metadata": {
        "id": "VyVwDKbHJqQt",
        "pycharm": {
          "name": "#%%\n"
        }
      },
      "outputs": [],
      "source": [
        "#### YOUR CODE HERE\n",
        "#! i sought the help of chatGPT with this question. I often ended up getting confused. Initially, my approach involved me counting the number of times a word was referenced.\n",
        "#! i believe that was incorrect as i had to identify the number of documents it came up in. This section of the module needs more work from me. i was also fortunate enough\n",
        "#! get some ideas from some of my colleagues. \n",
        "\n",
        "import numpy as np\n",
        "import math\n",
        "\n",
        "def index_of_word(word):\n",
        "    try:\n",
        "        return vocab.index(word)\n",
        "    except ValueError:\n",
        "        return None\n",
        "\n",
        "def find_count_docs_word(word):\n",
        "    count = 0\n",
        "    word_index = index_of_word(word)\n",
        "    if word_index is None:\n",
        "        return 0\n",
        "    for document in X_train:\n",
        "        if document[word_index] > 0:\n",
        "            count += 1\n",
        "    return count\n",
        "\n",
        "def calculate_tf_idf(example):\n",
        "    text = example['clean']\n",
        "    words = text.split()  # Assuming 'clean' is a space-separated string of words\n",
        "    tf_idf_vector = np.zeros(len(vocab))\n",
        "    \n",
        "    word_counts = {word: words.count(word) for word in set(words)}\n",
        "    total_words = sum(word_counts.values())\n",
        "    \n",
        "    for word, count in word_counts.items():\n",
        "        if word in vocab:\n",
        "            tf = count / total_words\n",
        "            idf = math.log((len(X_train) + 1) / (find_count_docs_word(word) + 1))\n",
        "            tf_idf_vector[index_of_word(word)] = tf * idf\n",
        "    \n",
        "    example['tf_idf'] = tf_idf_vector\n",
        "    return example\n",
        "\n",
        "### YOUR CODE ENDS HERE"
      ]
    },
    {
      "cell_type": "markdown",
      "metadata": {
        "id": "TsaZw6xws6v-"
      },
      "source": [
        "A result of the function being applied to a single example"
      ]
    },
    {
      "cell_type": "code",
      "execution_count": 44,
      "metadata": {
        "id": "eSGFYtnTJqQt",
        "pycharm": {
          "name": "#%%\n"
        }
      },
      "outputs": [
        {
          "name": "stdout",
          "output_type": "stream",
          "text": [
            "{'text': '@user nice new signage. Are you not concerned by Beatlemania -style hysterical crowds crongregating on you…', 'label': 0, 'clean': 'nice new signage are you not concerned by beatlemania style hysterical crowds crongregating on you', 'bow': array([0, 0, 0, ..., 0, 0, 4]), 'tf_idf': array([0., 0., 0., ..., 0., 0., 0.])}\n"
          ]
        }
      ],
      "source": [
        "print(calculate_tf_idf(tweet_ds['train'][0]))"
      ]
    },
    {
      "cell_type": "markdown",
      "metadata": {
        "id": "nfBWo0IctAJU"
      },
      "source": [
        "Apply the function to the whole dataset."
      ]
    },
    {
      "cell_type": "code",
      "execution_count": 45,
      "metadata": {
        "id": "x-12IfEsJqQt",
        "pycharm": {
          "name": "#%%\n"
        }
      },
      "outputs": [
        {
          "name": "stdout",
          "output_type": "stream",
          "text": [
            "DatasetDict({\n",
            "    train: Dataset({\n",
            "        features: ['text', 'label', 'clean', 'bow', 'tf_idf'],\n",
            "        num_rows: 8993\n",
            "    })\n",
            "    test: Dataset({\n",
            "        features: ['text', 'label', 'clean', 'bow', 'tf_idf'],\n",
            "        num_rows: 2970\n",
            "    })\n",
            "    validation: Dataset({\n",
            "        features: ['text', 'label', 'clean', 'bow', 'tf_idf'],\n",
            "        num_rows: 999\n",
            "    })\n",
            "})\n"
          ]
        }
      ],
      "source": [
        "tweet_ds = tweet_ds.map(calculate_tf_idf)\n",
        "\n",
        "print(tweet_ds)"
      ]
    },
    {
      "cell_type": "markdown",
      "metadata": {
        "id": "DCMZfS9Htdhl"
      },
      "source": [
        "Extract the features for each subset. Labels (```y_train```, etc.) are the same as for the previous exercises."
      ]
    },
    {
      "cell_type": "code",
      "execution_count": 46,
      "metadata": {
        "id": "yUsD8bBgtoL9"
      },
      "outputs": [
        {
          "name": "stdout",
          "output_type": "stream",
          "text": [
            "(8993, 4006)\n",
            "(8993,)\n",
            "(999, 4006)\n",
            "(999,)\n",
            "(2970, 4006)\n",
            "(2970,)\n"
          ]
        }
      ],
      "source": [
        "X_train_tf_idf = tweet_ds['train']['tf_idf']\n",
        "\n",
        "print(X_train_tf_idf.shape)\n",
        "print(y_train.shape)\n",
        "\n",
        "X_valid_tf_idf = tweet_ds['validation']['tf_idf']\n",
        "\n",
        "print(X_valid_tf_idf.shape)\n",
        "print(y_valid.shape)\n",
        "\n",
        "X_test_tf_idf = tweet_ds['test']['tf_idf']\n",
        "\n",
        "print(X_test_tf_idf.shape)\n",
        "print(y_test.shape)"
      ]
    },
    {
      "cell_type": "markdown",
      "metadata": {
        "collapsed": false,
        "id": "3W2Gd_SNJqQt",
        "pycharm": {
          "name": "#%% md\n"
        }
      },
      "source": [
        "<a name='e14'></a>\n",
        "### Exercise 14 (points 10)\n",
        "\n",
        "Train a classifier of your choice on TF-IDF features. Evaluate it on the validation and test dataset and compare with the previous experiments. As usual, provide explanations and insights to your analysis."
      ]
    },
    {
      "cell_type": "code",
      "execution_count": 47,
      "metadata": {
        "id": "dEkcLpotJqQt",
        "pycharm": {
          "name": "#%%\n"
        }
      },
      "outputs": [
        {
          "name": "stdout",
          "output_type": "stream",
          "text": [
            "Naive Bayes Classifier Results->\n",
            "\n",
            "Validation Report:\n",
            "               precision    recall  f1-score   support\n",
            "\n",
            "           0       0.71      0.77      0.74       572\n",
            "           1       0.65      0.58      0.61       427\n",
            "\n",
            "    accuracy                           0.69       999\n",
            "   macro avg       0.68      0.67      0.68       999\n",
            "weighted avg       0.68      0.69      0.68       999\n",
            "\n",
            "Test Report:\n",
            "               precision    recall  f1-score   support\n",
            "\n",
            "           0       0.75      0.47      0.58      1718\n",
            "           1       0.52      0.79      0.63      1252\n",
            "\n",
            "    accuracy                           0.60      2970\n",
            "   macro avg       0.63      0.63      0.60      2970\n",
            "weighted avg       0.65      0.60      0.60      2970\n",
            "\n"
          ]
        }
      ],
      "source": [
        "from sklearn.naive_bayes import MultinomialNB\n",
        "\n",
        "naive_bayes_classifier = MultinomialNB()\n",
        "naive_bayes_classifier.fit(X_train_tf_idf, y_train)\n",
        "\n",
        "print(\"Naive Bayes Classifier Results->\")\n",
        "print(\"\")\n",
        "\n",
        "validation_predictions = naive_bayes_classifier.predict(X_valid_tf_idf)\n",
        "validation_report = classification_report(y_valid, validation_predictions)\n",
        "print(\"Validation Report:\\n\", validation_report)\n",
        "\n",
        "test_predictions = naive_bayes_classifier.predict(X_test_tf_idf)\n",
        "test_report = classification_report(y_test, test_predictions)\n",
        "print(\"Test Report:\\n\", test_report)\n"
      ]
    },
    {
      "cell_type": "markdown",
      "metadata": {
        "id": "qP05s4Ye3-La"
      },
      "source": [
        "When comparing the results from section 6, we can see that the accuracy rates for this set of data are significantly higher than that obtained for NB bag of words. This showcases that TF-IDF helps the model identify critical words. Previously, all words were treated equally, but now standard words tend to be given less imporatnce. This would help reduce the impact of stop-words as they have not been pre-processed. Such words would not contribute to the analyis. Correspondingly, the accuracy rates have improved with the implemntetation of the TF-IDF where the uniqueness/impact of a word is weighed and valued. "
      ]
    },
    {
      "cell_type": "markdown",
      "metadata": {
        "id": "AEgIPt-WrAR6"
      },
      "source": [
        "<a name='9'></a>\n",
        "## 9. Adding Handcrafted Features\n",
        "\n",
        "In this section you will use either Bag-of-Words or TF-IDF (whichever performed better) but with a twist. You will add handcrafted features designed by you: Recall that in lectures we discussed how we can expand Bag-of-Words for this purpose (e.g. to include features like # of positive words or # of negative words). They will be concatenated with BOW or TF-IDF numpy array and used to train the classifier of your choice."
      ]
    },
    {
      "cell_type": "markdown",
      "metadata": {
        "id": "WIjHBU8lr0Ks"
      },
      "source": [
        "<a name='e15'></a>\n",
        "### Exercise 15 (points 10)\n",
        "\n",
        "Fill in the following function and write your own features (e.g. number of hashtags in the example)."
      ]
    },
    {
      "cell_type": "code",
      "execution_count": 48,
      "metadata": {
        "id": "IjHMNWmBrzcm"
      },
      "outputs": [],
      "source": [
        "def calculate_handcrafted_features(example):\n",
        "    \"\"\"\n",
        "    Calculates the handcrafted features for a given example\n",
        "    Args:\n",
        "        example: an example from the Dataset\n",
        "\n",
        "    Returns: updated example with 'handcrafted_features' column\n",
        "\n",
        "    \"\"\"\n",
        "    text = example['clean']\n",
        "\n",
        "    ### YOUR CODE HERE\n",
        "\n",
        "    # UPDATE this number to the number of features you intend to include\n",
        "    num_of_features = 2\n",
        "\n",
        "    #wordsTweet = len(text.split())\n",
        "    words = text.split()\n",
        "    #avgWordLength = sum(len(word) for word in words) / wordsTweet if wordsTweet > 0 else 0\n",
        "    #charactersTweet = len(text)\n",
        "\n",
        "    negative_specific_words = ['whore', 'kill', 'buildthatwall', 'slut', 'nigger', 'nigga', 'faggot', 'cuck', 'retard', 'terrorist', 'hoe', 'hoes', 'ban', 'banned']\n",
        "    negative_word_frequency = sum(1 for word in words if word in negative_specific_words)\n",
        "\n",
        "    negations_specific_words = ['not', 'no', 'nope', 'never']\n",
        "    negations_word_frequency = sum(1 for word in words if word in negations_specific_words)\n",
        "\n",
        "\n",
        "    # create numpy array of the size equal to the number of features\n",
        "    handcrafted_features = np.zeros(num_of_features, dtype=float)\n",
        "\n",
        "    # Assign computed features to the numpy array\n",
        "    #handcrafted_features[0] = wordsTweet\n",
        "    #handcrafted_features[1] = avgWordLength\n",
        "    #handcrafted_features[2] = charactersTweet\n",
        "    handcrafted_features[0] = negative_word_frequency\n",
        "    handcrafted_features[1] = negations_word_frequency\n",
        "\n",
        "    ### YOUR CODE ENDS HERE\n",
        "\n",
        "    example['handcrafted_features'] = handcrafted_features\n",
        "    return example"
      ]
    },
    {
      "cell_type": "markdown",
      "metadata": {
        "id": "lPYXFT-rtEex"
      },
      "source": [
        "Let's see the result of the function applied to a single example."
      ]
    },
    {
      "cell_type": "code",
      "execution_count": 49,
      "metadata": {
        "id": "nO8FYdhdtENt"
      },
      "outputs": [
        {
          "name": "stdout",
          "output_type": "stream",
          "text": [
            "{'text': '@user nice new signage. Are you not concerned by Beatlemania -style hysterical crowds crongregating on you…', 'label': 0, 'clean': 'nice new signage are you not concerned by beatlemania style hysterical crowds crongregating on you', 'bow': array([0, 0, 0, ..., 0, 0, 4]), 'tf_idf': array([0., 0., 0., ..., 0., 0., 0.], dtype=float32), 'handcrafted_features': array([0., 1.])}\n"
          ]
        }
      ],
      "source": [
        "print(calculate_handcrafted_features(tweet_ds['train'][0]))"
      ]
    },
    {
      "cell_type": "markdown",
      "metadata": {
        "id": "_7svF_Q1tMv4"
      },
      "source": [
        "Now, let's apply it to the whole dataset."
      ]
    },
    {
      "cell_type": "code",
      "execution_count": 50,
      "metadata": {
        "id": "qTC1G_24tQ9X"
      },
      "outputs": [
        {
          "name": "stdout",
          "output_type": "stream",
          "text": [
            "DatasetDict({\n",
            "    train: Dataset({\n",
            "        features: ['text', 'label', 'clean', 'bow', 'tf_idf', 'handcrafted_features'],\n",
            "        num_rows: 8993\n",
            "    })\n",
            "    test: Dataset({\n",
            "        features: ['text', 'label', 'clean', 'bow', 'tf_idf', 'handcrafted_features'],\n",
            "        num_rows: 2970\n",
            "    })\n",
            "    validation: Dataset({\n",
            "        features: ['text', 'label', 'clean', 'bow', 'tf_idf', 'handcrafted_features'],\n",
            "        num_rows: 999\n",
            "    })\n",
            "})\n"
          ]
        }
      ],
      "source": [
        "tweet_ds = tweet_ds.map(calculate_handcrafted_features)\n",
        "\n",
        "print(tweet_ds)"
      ]
    },
    {
      "cell_type": "markdown",
      "metadata": {
        "id": "o8XT63Ant7u4"
      },
      "source": [
        "We can now extract the handcrafted features and combine with TF-IDF featuers (or any of your choice from previously calculated)."
      ]
    },
    {
      "cell_type": "code",
      "execution_count": 51,
      "metadata": {
        "id": "-8-_kjBbuIAc"
      },
      "outputs": [
        {
          "name": "stdout",
          "output_type": "stream",
          "text": [
            "(8993, 4008)\n",
            "(8993,)\n",
            "(999, 4008)\n",
            "(999,)\n",
            "(2970, 4008)\n",
            "(2970,)\n"
          ]
        }
      ],
      "source": [
        "X_train_handcrafted = tweet_ds['train']['handcrafted_features']\n",
        "X_train_combined = np.concatenate((X_train_tf_idf, X_train_handcrafted), axis=-1)\n",
        "print(X_train_combined.shape)\n",
        "print(y_train.shape)\n",
        "\n",
        "X_valid_handcrafted = tweet_ds['validation']['handcrafted_features']\n",
        "X_valid_combined = np.concatenate((X_valid_tf_idf, X_valid_handcrafted), axis=-1)\n",
        "print(X_valid_combined.shape)\n",
        "print(y_valid.shape)\n",
        "\n",
        "X_test_handcrafted = tweet_ds['test']['handcrafted_features']\n",
        "X_test_combined = np.concatenate((X_test_tf_idf, X_test_handcrafted), axis=-1)\n",
        "print(X_test_combined.shape)\n",
        "print(y_test.shape)"
      ]
    },
    {
      "cell_type": "markdown",
      "metadata": {
        "id": "FdJIiZPQus9v"
      },
      "source": [
        "<a name='e16'></a>\n",
        "### Exercise 16 (points 10)\n",
        "\n",
        "Train the classifier of your choice (Naive Bayes, Logistic Regression, Neural Network, etc.) on the combined features. Evaluate it on the validation and test dataset and compare with the previous experiments. Did your handcrafted features improve the performance?\n",
        "\n",
        "This is an open ended question, meaning that you are free to implement different setups and judge the final performance. You do not need to include all your experiments but for every model you introduce make sure to check the performance."
      ]
    },
    {
      "cell_type": "code",
      "execution_count": 52,
      "metadata": {
        "id": "reykd5k8u9OP"
      },
      "outputs": [
        {
          "name": "stdout",
          "output_type": "stream",
          "text": [
            "Naives Bayes:\n",
            "Validation Accuracy: 0.6866866866866866\n",
            "Test Accuracy: 0.6053872053872054\n",
            "\n",
            "Logistic Regression:\n",
            "Validation Accuracy: 0.6836836836836837\n",
            "Test Accuracy: 0.5973063973063973\n"
          ]
        }
      ],
      "source": [
        "#### YOUR CODE HERE\n",
        "#! Used chatGPT here to train the classifier models on combined features.\n",
        "\n",
        "from sklearn.model_selection import train_test_split\n",
        "from sklearn.naive_bayes import MultinomialNB\n",
        "from sklearn.metrics import accuracy_score\n",
        "from sklearn.linear_model import LogisticRegression\n",
        "\n",
        "X_train_combined = np.concatenate((X_train_tf_idf, X_train_handcrafted), axis=-1)\n",
        "X_valid_combined = np.concatenate((X_valid_tf_idf, X_valid_handcrafted), axis=-1)\n",
        "X_test_combined = np.concatenate((X_test_tf_idf, X_test_handcrafted), axis=-1)\n",
        "\n",
        "clf = MultinomialNB()\n",
        "clf.fit(X_train_combined, y_train)\n",
        "\n",
        "val_preds = clf.predict(X_valid_combined)\n",
        "\n",
        "print(\"Naives Bayes:\")\n",
        "\n",
        "val_accuracy = accuracy_score(y_valid, val_preds)\n",
        "print(\"Validation Accuracy:\", val_accuracy)\n",
        "\n",
        "test_preds = clf.predict(X_test_combined)\n",
        "\n",
        "test_accuracy = accuracy_score(y_test, test_preds)\n",
        "print(\"Test Accuracy:\", test_accuracy)\n",
        "\n",
        "log_reg = LogisticRegression(max_iter=1000)\n",
        "log_reg.fit(X_train_combined, y_train)\n",
        "\n",
        "val_preds_log_reg = log_reg.predict(X_valid_combined)\n",
        "\n",
        "print(\"\")\n",
        "\n",
        "print(\"Logistic Regression:\")\n",
        "\n",
        "val_accuracy_log_reg = accuracy_score(y_valid, val_preds_log_reg)\n",
        "print(\"Validation Accuracy:\", val_accuracy_log_reg)\n",
        "\n",
        "test_preds_log_reg = log_reg.predict(X_test_combined)\n",
        "\n",
        "test_accuracy_log_reg = accuracy_score(y_test, test_preds_log_reg)\n",
        "print(\"Test Accuracy:\", test_accuracy_log_reg)\n",
        "\n",
        "### MAKE SURE TO CHECK TRAIN/VALID/TEST SET PERFORMANCE"
      ]
    },
    {
      "cell_type": "markdown",
      "metadata": {
        "id": "bQ0dCxly5EuC"
      },
      "source": [
        "**For this question, the Naives Bayes and the Logistic Regression classifier models were developed for the new combined features.**\n",
        "\n",
        "**The first test involves handicraft features - number of words, number of characters and average word length. When comparing the results, it is difficult to see any noticiable differences in the accuracy rates between the Validatin and Test sets. The handicraft features did not improve the performance of the classifiers as they features do not happen to add any meaningful information to the models.**\n",
        "\n",
        "Results first test: Naives Bayes:\n",
        "Validation Accuracy: 0.6746746746746747\n",
        "Test Accuracy: 0.6016835016835017\n",
        "\n",
        "Logistic Regression:\n",
        "Validation Accuracy: 0.6796796796796797\n",
        "Test Accuracy: 0.5902356902356902\n",
        "\n",
        "**The second test involves handicraft features - number of words, number of characters, average word length, number of hate words used and number of negations used. When comparing the results, while insignifantly, the accuracy does increase. This increase is consistent across the two models. This motivates me to try some more combinations.** \n",
        "\n",
        "Naives Bayes:\n",
        "Validation Accuracy: 0.6746746746746747\n",
        "Test Accuracy: 0.604040404040404\n",
        "\n",
        "Logistic Regression:\n",
        "Validation Accuracy: 0.6796796796796797\n",
        "Test Accuracy: 0.5976430976430976\n",
        "\n",
        "**The third test involves handicraft features - number of hate words used and number of negations used. When comparing the results, while insignifantly, the accuracy does increase againt. This increase is consistent across the two models. This motivates me to try some more combinations.**\n",
        "\n",
        "Naives Bayes:\n",
        "Validation Accuracy: 0.6866866866866866\n",
        "Test Accuracy: 0.6053872053872054\n",
        "\n",
        "Logistic Regression:\n",
        "Validation Accuracy: 0.6836836836836837\n",
        "Test Accuracy: 0.5973063973063973\n",
        "\n",
        "**The fourth test involves handicraft features - number of hate words used. When comparing the results, while insignifantly, the accuracy decreases. This increase is consistent across the two models.** \n",
        "\n",
        "Naives Bayes:\n",
        "Validation Accuracy: 0.6826826826826827\n",
        "Test Accuracy: 0.6026936026936027\n",
        "\n",
        "Logistic Regression:\n",
        "Validation Accuracy: 0.6856856856856857\n",
        "Test Accuracy: 0.5973063973063973\n",
        "\n",
        "\n",
        "**I wished to implement more handcraft models but I realised that because of my pre-processing it becomes difficult for me to check for some cues. The '#' and '@' symbols are removed. Moreover, '!' and '?' have also been pre-processed. It can also be noted that since cleaned data is converted to lowercase, capitalisation cannot be used either. This would be a learning i take from the pre-processing step that I wish to consider my future models.**\n",
        "\n",
        "**These set of experiements have demonstrated that the handicraft features have very little impact on accuracy. The limitations for the same have been discussed.** \n",
        "\n",
        "**Another thing to consider is that the Naives Bayes model tends to showcase slightly better test accuracy than logistic regression. This might be because logistic regression is more prone to overfitting. Moreover, if the feature distribution in the dataset aligns well with the underlying assumptions of Naive Bayes (e.g., features are conditionally independent), it may lead to better performance compared to logistic regression.**\n",
        "\n"
      ]
    },
    {
      "cell_type": "markdown",
      "metadata": {
        "id": "ob6uxaVfjIP9"
      },
      "source": [
        "<a name='10'></a>\n",
        "## 10. Reflection, Bias, Fairness, Ethics\n"
      ]
    },
    {
      "cell_type": "markdown",
      "metadata": {
        "id": "Kpu4SjMkwBxj"
      },
      "source": [
        "<a name='e17'></a>\n",
        "###  Exercise 17 (points 5)\n",
        "\n",
        "There are many different applications for such a hate-speech classification model. For example, social media platforms could use it in order to moderate relevant texts: this actually falls under the obligations of platforms to report on the moderating actions they have taken under the Data Services Act (DSA). You can check this database [here](https://transparency.dsa.ec.europa.eu/) and read more about the type of content being reported [here](https://arxiv.org/pdf/2404.02894.pdf).\n",
        "\n",
        "Systems used in the context of (lega)l decision-making or, more generally, systems that filter specific content (e.g. removing hate-speech comments) should be used with great care and in view of the potential interference\n",
        "with human rights, namely the right to free speech.\n",
        "\n",
        "Based on your experience from this lab (i.e. you saw how easy/difficult is to build such a task, you also saw how easy/difficult is to get good results and you also saw in which cases the model might not perform well enough) you are asked to reflect on the ethical use of such a classification model. More specifically, you are asked to reflect on the following questions (and feel free to expand your analysis).\n",
        "\n",
        "* Are there considerations for the (final) model you built? Did you make decisions (e.g. for the way data is processed) tht might affect the model?\n",
        "* What are the limitations of the model and your results?\n",
        "* Who can be potential relevant stakeholders of such a system? If you had to deploy such a model in practice, who would you need to consult before putting it into practice?\n",
        "* Who can benefit from such a model (and the analysis)? Who can be harmed? Who is excluded?"
      ]
    },
    {
      "cell_type": "markdown",
      "metadata": {
        "id": "-DQDz3Z15O6i"
      },
      "source": [
        "1. There are definite coniderations that were taken for when and how I built the final model. The first and foremost is attempting to eliminate personal bias. The idea of immigration and misogyny evoke strong sentiments in me. This makes it important for me to not just classify any tweet/information that goes against my own beliefs as hate-speech. That would be a very elitist approach and I hope to have avoided doing so in the process. This is why it would be vastly beneficial for models to be developed in teams. Teams which are diverse and representtive of people from all backgrounds. This is something that we are failing to see with the rapid developments of AI. The most recent example being Gemini and its anti-white repersentation stance. This was problematic and such issues will continue to arrise if the developers go unchecked. \n",
        "As far as my own decisions are concerned, my idea of pre-processing may have caused issues. There were various aspects that my models had to overlook because of said pre-processing. This hindered the ability to make better judgement. I would hypothise that if my cleaning was not as 'intensive' my handcrafted features would have yielded better results.\n",
        "\n",
        "2. As mentioned earlier, the model is limited due to excess or incorrect pre-processing. This means that the data has been too normalised and important stylistic ffeatures have been overlooked or eliminated. This impacts the results. Experiments from Q16 showcase how the model was very limited. \n",
        "Another limitation of the model would be the lack of context consideration. A lot of words tend to be taken at face value. This might not work very well with a lot of tweets. This could be because of the use of slang where meanings of words get altered or just the use of negations or even punctuations. These were features that should not be overlooked. Sarcasm is also not detected with the lack of context. Sarcasm is also a difficult feautre to understand, where even people tend to not understand it at times (my roommate), so it is unfair to assume that machines can. \n",
        "We should also consider that all the language processing is done in English. There is a possibility that people may use words from other languages. This could be done with/without the Latin script that we are all accustomed to.\n",
        "\n",
        "3. The potential stakeholders for such a system is difficult to determine. Firstly and most importantly, the model should be developed by speakers of the language that is being taken into consideration. The model should be consulted by linguists most importantly who understand the evolution of language and trends. In the absence of linguists, historians or journalists might be good alternatives. They are also quick to capture trends who can help us better. It is important to ask why a model is being built and who for. So, it is essential to understand from our clients what the real purpose of this is supposed to be, and then verify and validate if what was expected has been built.\n",
        "It would be smart to have a development team that is representative of the groups involved with such sentiments, if not the whole society as a whole. This would help us get a more nuanced and balanced understanding of how the sentiments can change and how tides shift.\n",
        "Lastly, if possible, analyising past data from where the data is being fetched -analaysing past tweets would be ideal for a twitter sentiment analysis.\n",
        "\n",
        "4. The government and marketting firms can benefit from such models. It helps them understand how the masses are behaving and what they wish to seek. These models could be further used to enhance recommender systems and advertisments accordingly. The government/political parties could also use this information to shift tides and influence how people feel. This could go so far to impact the results of elections. A very notable case being that of Cambridge Analytica and their influence on the elections. Such models could be used to directly attack democracy of a nation. They could be used to spark riots (Arab Spring). \n",
        "While there is a lot of harm that can be done, it can be used for good motives as well. For exmaple, a politican doing sentiment analyiss to make a policy change which reflects what the people want. The options are limitless. \n",
        "\n",
        "The people who are excluded from such are naturally the people who tend to not contribute to such datasets. This could be older people who are more resistant to accept new tech but this could also be people who are excluded from internet access. Where internet is cut off, the voice of people can be shunted. This could vastly impact how we view this world. This makes it incredibly imporatnt to evenly distribute how the data is collected and whom it represents. For example, western world has better access to the internet, which would represent them more than others. But this does not make them more important than others. Such models should not be used to polarise people on critical topics. \n",
        "\n",
        "\n",
        "Special thanks to Srikar Narayan Rao and Garrick Latimer who helped me with this project.\n",
        "\n"
      ]
    }
  ],
  "metadata": {
    "colab": {
      "provenance": [],
      "toc_visible": true
    },
    "kernelspec": {
      "display_name": "Python 3",
      "language": "python",
      "name": "python3"
    },
    "language_info": {
      "codemirror_mode": {
        "name": "ipython",
        "version": 3
      },
      "file_extension": ".py",
      "mimetype": "text/x-python",
      "name": "python",
      "nbconvert_exporter": "python",
      "pygments_lexer": "ipython3",
      "version": "3.11.4"
    }
  },
  "nbformat": 4,
  "nbformat_minor": 0
}
